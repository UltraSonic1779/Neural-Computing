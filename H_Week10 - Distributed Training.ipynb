{
 "cells": [
  {
   "cell_type": "markdown",
   "metadata": {
    "id": "BAfJCaULD2Yp"
   },
   "source": [
    "# Distributed Training of Neural Network Models\n",
    "\n",
    "\n",
    "Below is the basic implementation of Federated Learning code for 2 clients and a server for one communication round using the MNIST dataset.\n",
    "\n",
    "Your task for this lab is to utilize this code as a benchmark and accomplish  the following objectives:\n",
    "\n",
    "1. Comment each section of the code to understand its functionality.\n",
    "\n",
    "2. Experiment with different neural network architectures, varying the number of layers and activation functions\n",
    "\n",
    "3. Assess the model's performance (accuracy, precision, recall, and f-score) as the number of clients changes. Utilize 2, 4, 6, 8, and 10 clients, and plot a graph illustrating the model's performance across varying client counts.\n",
    "\n",
    "4. Introduce one dishonest client for a any sepcific number of clients of your choice. For this client, assign some training labels ('y_train') to a specific label, such as '4'. Analyze how the performance ((accuracy, precision, recall, and f-score)) of the global model is affected by the presence of a dishonest client. Find approximately how many labels need to be maliciously altered so that the performance degrades."
   ]
  },
  {
   "cell_type": "code",
   "execution_count": 1,
   "metadata": {
    "id": "0rQj0pd83zCS"
   },
   "outputs": [
    {
     "name": "stdout",
     "output_type": "stream",
     "text": [
      "WARNING:tensorflow:From D:\\Softwares\\Coding\\Anaconda\\Lib\\site-packages\\keras\\src\\losses.py:2976: The name tf.losses.sparse_softmax_cross_entropy is deprecated. Please use tf.compat.v1.losses.sparse_softmax_cross_entropy instead.\n",
      "\n"
     ]
    }
   ],
   "source": [
    "import numpy as np\n",
    "import tensorflow as tf\n",
    "from tensorflow.keras.datasets import mnist\n",
    "from tensorflow.keras.models import Sequential\n",
    "from tensorflow.keras.layers import Dense, Flatten\n",
    "from tensorflow.keras.optimizers import SGD\n",
    "from sklearn.model_selection import train_test_split\n",
    "from keras import backend as K\n",
    "import random"
   ]
  },
  {
   "cell_type": "code",
   "execution_count": 2,
   "metadata": {
    "id": "jGQHqF2Y3zF5"
   },
   "outputs": [
    {
     "name": "stdout",
     "output_type": "stream",
     "text": [
      "WARNING:tensorflow:From D:\\Softwares\\Coding\\Anaconda\\Lib\\site-packages\\keras\\src\\backend.py:277: The name tf.reset_default_graph is deprecated. Please use tf.compat.v1.reset_default_graph instead.\n",
      "\n"
     ]
    }
   ],
   "source": [
    "np.random.seed(2344222) # Set seed for numpy. Put your SID instead of number '42'\n",
    "random.seed(2344222) # Set seed for Python's built-in random number generator.  Put your SID instead of number '42'\n",
    "tf.random.set_seed(2344222) # Set seed for TensorFlow. Put your SID instead of number '42'\n",
    "K.clear_session()\n"
   ]
  },
  {
   "cell_type": "code",
   "execution_count": 3,
   "metadata": {
    "id": "0Mf8sjel39eG"
   },
   "outputs": [],
   "source": [
    "(x_train, y_train), (x_test, y_test) = mnist.load_data()"
   ]
  },
  {
   "cell_type": "code",
   "execution_count": 4,
   "metadata": {
    "id": "QGo4_zxa39je"
   },
   "outputs": [],
   "source": [
    "x_train = x_train.astype('float32') / 255.0\n",
    "x_test = x_test.astype('float32') / 255.0\n",
    "x_train = np.expand_dims(x_train, -1)\n",
    "x_test = np.expand_dims(x_test, -1)"
   ]
  },
  {
   "cell_type": "code",
   "execution_count": 5,
   "metadata": {
    "colab": {
     "base_uri": "https://localhost:8080/"
    },
    "id": "q8u-RBPj50Ht",
    "outputId": "829f32a1-1694-43a4-9012-9d19bdf5121a"
   },
   "outputs": [
    {
     "name": "stdout",
     "output_type": "stream",
     "text": [
      "(60000, 28, 28, 1)\n",
      "(10000, 28, 28, 1)\n"
     ]
    }
   ],
   "source": [
    "print(x_train.shape)\n",
    "print(x_test.shape)"
   ]
  },
  {
   "cell_type": "code",
   "execution_count": 6,
   "metadata": {
    "id": "1FzSanlW4DWD"
   },
   "outputs": [],
   "source": [
    "def create_client_model():\n",
    "    model = Sequential([\n",
    "        Flatten(input_shape=(28, 28, 1)),\n",
    "        Dense(128, activation='relu'),\n",
    "        Dense(10, activation='softmax')\n",
    "    ])\n",
    "    model.compile(optimizer='adam', loss='sparse_categorical_crossentropy', metrics=['accuracy'])\n",
    "    return model\n",
    "\n",
    "def train_client_model(model, x_train, y_train, epochs=5):\n",
    "    model.fit(x_train, y_train, epochs=epochs, verbose=1)\n",
    "    return model"
   ]
  },
  {
   "cell_type": "markdown",
   "metadata": {},
   "source": [
    "## 2 clients"
   ]
  },
  {
   "cell_type": "code",
   "execution_count": 7,
   "metadata": {
    "id": "faEMcu9L4DeQ"
   },
   "outputs": [],
   "source": [
    "x_train_c1, x_train_c2, y_train_c1, y_train_c2 = train_test_split(x_train, y_train, test_size=0.5, random_state=2344222)\n",
    "\n"
   ]
  },
  {
   "cell_type": "code",
   "execution_count": 8,
   "metadata": {
    "colab": {
     "base_uri": "https://localhost:8080/"
    },
    "id": "lNZLQ0j_5_QN",
    "outputId": "b432caad-65ba-4c03-9234-a8bad83c4a22"
   },
   "outputs": [
    {
     "name": "stdout",
     "output_type": "stream",
     "text": [
      "(30000, 28, 28, 1)\n",
      "(30000, 28, 28, 1)\n",
      "(30000,)\n",
      "(30000,)\n"
     ]
    }
   ],
   "source": [
    "print(x_train_c1.shape)\n",
    "print(x_train_c2.shape)\n",
    "print(y_train_c1.shape)\n",
    "print(y_train_c2.shape)\n"
   ]
  },
  {
   "cell_type": "code",
   "execution_count": 9,
   "metadata": {
    "colab": {
     "base_uri": "https://localhost:8080/"
    },
    "id": "8NDoAqhf6HIN",
    "outputId": "e506fc63-aa80-4ba1-b2a8-278c1521fd3a"
   },
   "outputs": [
    {
     "name": "stdout",
     "output_type": "stream",
     "text": [
      "WARNING:tensorflow:From D:\\Softwares\\Coding\\Anaconda\\Lib\\site-packages\\keras\\src\\optimizers\\__init__.py:309: The name tf.train.Optimizer is deprecated. Please use tf.compat.v1.train.Optimizer instead.\n",
      "\n",
      "Epoch 1/5\n",
      "WARNING:tensorflow:From D:\\Softwares\\Coding\\Anaconda\\Lib\\site-packages\\keras\\src\\utils\\tf_utils.py:492: The name tf.ragged.RaggedTensorValue is deprecated. Please use tf.compat.v1.ragged.RaggedTensorValue instead.\n",
      "\n",
      "WARNING:tensorflow:From D:\\Softwares\\Coding\\Anaconda\\Lib\\site-packages\\keras\\src\\engine\\base_layer_utils.py:384: The name tf.executing_eagerly_outside_functions is deprecated. Please use tf.compat.v1.executing_eagerly_outside_functions instead.\n",
      "\n",
      "938/938 [==============================] - 2s 1ms/step - loss: 0.3469 - accuracy: 0.9014\n",
      "Epoch 2/5\n",
      "938/938 [==============================] - 1s 1ms/step - loss: 0.1624 - accuracy: 0.9523\n",
      "Epoch 3/5\n",
      "938/938 [==============================] - 1s 1ms/step - loss: 0.1130 - accuracy: 0.9669\n",
      "Epoch 4/5\n",
      "938/938 [==============================] - 1s 1ms/step - loss: 0.0844 - accuracy: 0.9747\n",
      "Epoch 5/5\n",
      "938/938 [==============================] - 1s 1ms/step - loss: 0.0641 - accuracy: 0.9807\n",
      "Epoch 1/5\n",
      "938/938 [==============================] - 2s 1ms/step - loss: 0.3421 - accuracy: 0.9030\n",
      "Epoch 2/5\n",
      "938/938 [==============================] - 1s 1ms/step - loss: 0.1607 - accuracy: 0.9543\n",
      "Epoch 3/5\n",
      "938/938 [==============================] - 1s 1ms/step - loss: 0.1093 - accuracy: 0.9682\n",
      "Epoch 4/5\n",
      "938/938 [==============================] - 1s 1ms/step - loss: 0.0831 - accuracy: 0.9749\n",
      "Epoch 5/5\n",
      "938/938 [==============================] - 1s 1ms/step - loss: 0.0616 - accuracy: 0.9816\n"
     ]
    }
   ],
   "source": [
    "# Create and train client models\n",
    "client1_model = create_client_model()\n",
    "client2_model = create_client_model()\n",
    "\n",
    "client1_model = train_client_model(client1_model, x_train_c1, y_train_c1)\n",
    "client2_model = train_client_model(client2_model, x_train_c2, y_train_c2)"
   ]
  },
  {
   "cell_type": "code",
   "execution_count": 10,
   "metadata": {
    "id": "Knw07uE74Dgp"
   },
   "outputs": [],
   "source": [
    "# Federated averaging\n",
    "def federated_average_weights(weights1, weights2):\n",
    "    new_weights = []\n",
    "    for w1, w2 in zip(weights1, weights2):\n",
    "        new_weights.append((w1 + w2) / 2)\n",
    "    return new_weights"
   ]
  },
  {
   "cell_type": "code",
   "execution_count": 11,
   "metadata": {
    "id": "ojdtEncJ4DjB"
   },
   "outputs": [],
   "source": [
    "# Aggregate models\n",
    "aggregated_weights = federated_average_weights(client1_model.get_weights(), client2_model.get_weights())"
   ]
  },
  {
   "cell_type": "code",
   "execution_count": 12,
   "metadata": {
    "id": "nnE_5XnS6OUN"
   },
   "outputs": [],
   "source": [
    "# Create global model and set weights\n",
    "global_model = create_client_model()\n",
    "global_model.set_weights(aggregated_weights)\n"
   ]
  },
  {
   "cell_type": "code",
   "execution_count": 13,
   "metadata": {
    "colab": {
     "base_uri": "https://localhost:8080/"
    },
    "id": "cvhzExvp6Qg8",
    "outputId": "4ea8b282-6176-4db4-f726-cc03e9d871c9"
   },
   "outputs": [
    {
     "name": "stdout",
     "output_type": "stream",
     "text": [
      "313/313 - 0s - loss: 0.3182 - accuracy: 0.9253 - 422ms/epoch - 1ms/step\n",
      "Test accuracy: 0.9253000020980835\n"
     ]
    }
   ],
   "source": [
    "# Evaluate global model\n",
    "test_loss, test_acc = global_model.evaluate(x_test, y_test, verbose=2)\n",
    "print('Test accuracy:', test_acc)"
   ]
  },
  {
   "cell_type": "code",
   "execution_count": 14,
   "metadata": {
    "id": "yFPUa1ZA6W0E"
   },
   "outputs": [],
   "source": [
    "from sklearn.metrics import classification_report\n",
    "from sklearn.metrics import accuracy_score, precision_score, recall_score, f1_score\n"
   ]
  },
  {
   "cell_type": "code",
   "execution_count": 15,
   "metadata": {
    "colab": {
     "base_uri": "https://localhost:8080/"
    },
    "id": "hFq-8E-36W5E",
    "outputId": "573a7dd3-2367-43aa-bb7e-94a09c27a0e4"
   },
   "outputs": [
    {
     "name": "stdout",
     "output_type": "stream",
     "text": [
      "313/313 [==============================] - 0s 936us/step\n",
      "(10000, 10)\n"
     ]
    }
   ],
   "source": [
    "prediction = global_model.predict(x_test)\n",
    "print(prediction.shape)\n",
    "\n",
    "prediction = list(prediction.argmax(axis=1))"
   ]
  },
  {
   "cell_type": "code",
   "execution_count": 16,
   "metadata": {
    "colab": {
     "base_uri": "https://localhost:8080/"
    },
    "id": "BEKOAJ356XLk",
    "outputId": "12337ddf-3d3f-4c31-eac2-bd53e462aaa0"
   },
   "outputs": [
    {
     "name": "stdout",
     "output_type": "stream",
     "text": [
      "              precision    recall  f1-score   support\n",
      "\n",
      "           0       0.96      0.98      0.97       980\n",
      "           1       0.97      0.96      0.97      1135\n",
      "           2       0.91      0.97      0.94      1032\n",
      "           3       0.92      0.91      0.91      1010\n",
      "           4       0.98      0.86      0.91       982\n",
      "           5       0.85      0.95      0.90       892\n",
      "           6       0.97      0.91      0.94       958\n",
      "           7       0.96      0.90      0.93      1028\n",
      "           8       0.84      0.90      0.87       974\n",
      "           9       0.91      0.91      0.91      1009\n",
      "\n",
      "    accuracy                           0.93     10000\n",
      "   macro avg       0.93      0.92      0.92     10000\n",
      "weighted avg       0.93      0.93      0.93     10000\n",
      "\n"
     ]
    }
   ],
   "source": [
    "print(classification_report(y_test, prediction))"
   ]
  },
  {
   "cell_type": "code",
   "execution_count": 17,
   "metadata": {
    "colab": {
     "base_uri": "https://localhost:8080/"
    },
    "id": "5EsuIANE39qe",
    "outputId": "1f375fc8-2742-4221-9c93-a0bf58e95455"
   },
   "outputs": [
    {
     "name": "stdout",
     "output_type": "stream",
     "text": [
      "Accuracy test set: 0.9253\n",
      "precison test set: 0.9280436686653154\n",
      "Recall test set: 0.9253\n",
      "f-score test set: 0.9255625700071943\n"
     ]
    }
   ],
   "source": [
    "print(\"Accuracy test set:\", accuracy_score(y_test, prediction))\n",
    "print(\"precison test set:\", precision_score(y_test, prediction, average = 'weighted'))\n",
    "print(\"Recall test set:\", recall_score(y_test, prediction, average = 'weighted'))\n",
    "print(\"f-score test set:\", f1_score(y_test, prediction, average = 'weighted'))\n"
   ]
  },
  {
   "cell_type": "code",
   "execution_count": 18,
   "metadata": {
    "id": "g76dDZ7e5PsN"
   },
   "outputs": [],
   "source": [
    "test_precision= []\n",
    "test_recall = []\n",
    "test_f1_score = []\n",
    "test_accuracy=[]"
   ]
  },
  {
   "cell_type": "code",
   "execution_count": 19,
   "metadata": {
    "id": "g2sH9duA_zWS"
   },
   "outputs": [],
   "source": [
    "test_accuracy.append(0.9253)\n",
    "test_precision.append(0.9280436686653154)\n",
    "test_recall.append(0.9253)\n",
    "test_f1_score.append(0.9255625700071943)"
   ]
  },
  {
   "cell_type": "code",
   "execution_count": 20,
   "metadata": {},
   "outputs": [
    {
     "name": "stdout",
     "output_type": "stream",
     "text": [
      "[0.9253]\n",
      "[0.9280436686653154]\n",
      "[0.9253]\n",
      "[0.9255625700071943]\n"
     ]
    }
   ],
   "source": [
    "print(test_accuracy)\n",
    "print(test_precision)\n",
    "print(test_recall)\n",
    "print(test_f1_score)"
   ]
  },
  {
   "cell_type": "markdown",
   "metadata": {
    "id": "D_nZSIjnBfE9"
   },
   "source": [
    "## 4 clients"
   ]
  },
  {
   "cell_type": "code",
   "execution_count": 21,
   "metadata": {
    "id": "Ol34p-Sy_zoU"
   },
   "outputs": [],
   "source": [
    "# split data into 4 clients"
   ]
  },
  {
   "cell_type": "code",
   "execution_count": 22,
   "metadata": {
    "id": "xEb_yZ1fBizY"
   },
   "outputs": [],
   "source": [
    "client_1 = (x_train[0:15000], y_train[0:15000])\n",
    "client_2 = (x_train[15000:30000], y_train[15000:30000])\n",
    "client_3 = (x_train[30000:45000], y_train[30000:45000])\n",
    "client_4 = (x_train[45000:], y_train[45000:])\n"
   ]
  },
  {
   "cell_type": "code",
   "execution_count": 23,
   "metadata": {
    "colab": {
     "base_uri": "https://localhost:8080/"
    },
    "id": "La4b_ajZBi25",
    "outputId": "92e642ab-78ec-48ce-f8f9-f58492e3cdf6"
   },
   "outputs": [
    {
     "name": "stdout",
     "output_type": "stream",
     "text": [
      "(15000, 28, 28, 1)\n",
      "(15000, 28, 28, 1)\n",
      "(15000, 28, 28, 1)\n",
      "(15000, 28, 28, 1)\n",
      "(15000,)\n",
      "(15000,)\n",
      "(15000,)\n",
      "(15000,)\n"
     ]
    }
   ],
   "source": [
    "print(client_1[0].shape)\n",
    "print(client_2[0].shape)\n",
    "print(client_3[0].shape)\n",
    "print(client_4[0].shape)\n",
    "\n",
    "print(client_1[1].shape)\n",
    "print(client_2[1].shape)\n",
    "print(client_3[1].shape)\n",
    "print(client_4[1].shape)"
   ]
  },
  {
   "cell_type": "code",
   "execution_count": 24,
   "metadata": {
    "colab": {
     "base_uri": "https://localhost:8080/"
    },
    "id": "AIRcHQQLBi5D",
    "outputId": "403ce900-bf3e-4a56-8236-6ed731ed19ee"
   },
   "outputs": [
    {
     "name": "stdout",
     "output_type": "stream",
     "text": [
      "Epoch 1/5\n",
      "469/469 [==============================] - 1s 1ms/step - loss: 0.4591 - accuracy: 0.8731\n",
      "Epoch 2/5\n",
      "469/469 [==============================] - 1s 1ms/step - loss: 0.2065 - accuracy: 0.9429\n",
      "Epoch 3/5\n",
      "469/469 [==============================] - 1s 1ms/step - loss: 0.1467 - accuracy: 0.9577\n",
      "Epoch 4/5\n",
      "469/469 [==============================] - 1s 1ms/step - loss: 0.1094 - accuracy: 0.9697\n",
      "Epoch 5/5\n",
      "469/469 [==============================] - 1s 1ms/step - loss: 0.0837 - accuracy: 0.9763\n",
      "Epoch 1/5\n",
      "469/469 [==============================] - 1s 1ms/step - loss: 2.3149 - accuracy: 0.1016\n",
      "Epoch 2/5\n",
      "469/469 [==============================] - 1s 1ms/step - loss: 2.2972 - accuracy: 0.1189\n",
      "Epoch 3/5\n",
      "469/469 [==============================] - 1s 1ms/step - loss: 2.2872 - accuracy: 0.1321\n",
      "Epoch 4/5\n",
      "469/469 [==============================] - 1s 2ms/step - loss: 2.2734 - accuracy: 0.1413\n",
      "Epoch 5/5\n",
      "469/469 [==============================] - 1s 1ms/step - loss: 2.2546 - accuracy: 0.1538\n",
      "Epoch 1/5\n",
      "469/469 [==============================] - 1s 1ms/step - loss: 2.3157 - accuracy: 0.1053\n",
      "Epoch 2/5\n",
      "469/469 [==============================] - 1s 1ms/step - loss: 2.2962 - accuracy: 0.1209\n",
      "Epoch 3/5\n",
      "469/469 [==============================] - 1s 1ms/step - loss: 2.2848 - accuracy: 0.1331\n",
      "Epoch 4/5\n",
      "469/469 [==============================] - 1s 1ms/step - loss: 2.2678 - accuracy: 0.1473\n",
      "Epoch 5/5\n",
      "469/469 [==============================] - 1s 1ms/step - loss: 2.2456 - accuracy: 0.1606\n",
      "Epoch 1/5\n",
      "469/469 [==============================] - 1s 1ms/step - loss: 2.3159 - accuracy: 0.1033\n",
      "Epoch 2/5\n",
      "469/469 [==============================] - 1s 1ms/step - loss: 2.2958 - accuracy: 0.1249\n",
      "Epoch 3/5\n",
      "469/469 [==============================] - 1s 1ms/step - loss: 2.2840 - accuracy: 0.1355\n",
      "Epoch 4/5\n",
      "469/469 [==============================] - 1s 1ms/step - loss: 2.2671 - accuracy: 0.1466\n",
      "Epoch 5/5\n",
      "469/469 [==============================] - 1s 1ms/step - loss: 2.2476 - accuracy: 0.1648\n"
     ]
    }
   ],
   "source": [
    "client1_model = create_client_model()\n",
    "client2_model = create_client_model()\n",
    "client3_model = create_client_model()\n",
    "client4_model = create_client_model()\n",
    "\n",
    "client1_model = train_client_model(client1_model, client_1[0], client_1[1])\n",
    "client2_model = train_client_model(client2_model, client_2[0], client_1[1])\n",
    "client3_model = train_client_model(client3_model, client_3[0], client_1[1])\n",
    "client4_model = train_client_model(client4_model, client_4[0], client_1[1])"
   ]
  },
  {
   "cell_type": "code",
   "execution_count": 25,
   "metadata": {
    "id": "b5XixPAF_zqy"
   },
   "outputs": [],
   "source": [
    "# Federated averaging\n",
    "def federated_average_weights(weights1, weights2, weights3, weights4):\n",
    "    new_weights = []\n",
    "    for w1, w2, w3, w4 in zip(weights1, weights2,  weights3,  weights4):\n",
    "        new_weights.append((w1 + w2 + w3 + w4) / 4)\n",
    "    return new_weights"
   ]
  },
  {
   "cell_type": "code",
   "execution_count": 26,
   "metadata": {
    "id": "iRHs1RAGEZtk"
   },
   "outputs": [],
   "source": [
    "# Aggregate models\n",
    "aggregated_weights = federated_average_weights(client1_model.get_weights(), client2_model.get_weights(), client3_model.get_weights(), client4_model.get_weights())"
   ]
  },
  {
   "cell_type": "code",
   "execution_count": 27,
   "metadata": {
    "colab": {
     "base_uri": "https://localhost:8080/"
    },
    "id": "DfN6GVmJEZv7",
    "outputId": "7634fdf7-5b95-42de-9396-137366fb6cb2"
   },
   "outputs": [
    {
     "name": "stdout",
     "output_type": "stream",
     "text": [
      "313/313 - 0s - loss: 2.2286 - accuracy: 0.3174 - 415ms/epoch - 1ms/step\n",
      "Test accuracy: 0.3174000084400177\n"
     ]
    }
   ],
   "source": [
    "# Create global model and set weights\n",
    "global_model = create_client_model()\n",
    "global_model.set_weights(aggregated_weights)\n",
    "\n",
    "# Evaluate global model\n",
    "test_loss, test_acc = global_model.evaluate(x_test, y_test, verbose=2)\n",
    "print('Test accuracy:', test_acc)"
   ]
  },
  {
   "cell_type": "code",
   "execution_count": 28,
   "metadata": {
    "colab": {
     "base_uri": "https://localhost:8080/"
    },
    "id": "s8fZXim3EZyL",
    "outputId": "329f5eee-a6e1-4cea-e660-6e49982ade94"
   },
   "outputs": [
    {
     "name": "stdout",
     "output_type": "stream",
     "text": [
      "313/313 [==============================] - 0s 991us/step\n",
      "(10000, 10)\n"
     ]
    }
   ],
   "source": [
    "prediction = global_model.predict(x_test)\n",
    "print(prediction.shape)\n",
    "\n",
    "prediction = list(prediction.argmax(axis=1))"
   ]
  },
  {
   "cell_type": "code",
   "execution_count": 29,
   "metadata": {
    "colab": {
     "base_uri": "https://localhost:8080/"
    },
    "id": "2husRH-OEZ0c",
    "outputId": "7cbbfd7c-2870-4755-893b-a32aa6951c86"
   },
   "outputs": [
    {
     "name": "stdout",
     "output_type": "stream",
     "text": [
      "Accuracy test set: 0.3174\n",
      "precison test set: 0.4613970895678904\n",
      "Recall test set: 0.3174\n",
      "f-score test set: 0.2677134401243799\n"
     ]
    }
   ],
   "source": [
    "print(\"Accuracy test set:\", accuracy_score(y_test, prediction))\n",
    "print(\"precison test set:\", precision_score(y_test, prediction, average = 'weighted'))\n",
    "print(\"Recall test set:\", recall_score(y_test, prediction, average = 'weighted'))\n",
    "print(\"f-score test set:\", f1_score(y_test, prediction, average = 'weighted'))"
   ]
  },
  {
   "cell_type": "code",
   "execution_count": 30,
   "metadata": {},
   "outputs": [],
   "source": [
    "test_accuracy.append(0.3174)\n",
    "test_precision.append(0.4613970895678904)\n",
    "test_recall.append(0.3174)\n",
    "test_f1_score.append(0.2677134401243799)"
   ]
  },
  {
   "cell_type": "code",
   "execution_count": 31,
   "metadata": {},
   "outputs": [
    {
     "name": "stdout",
     "output_type": "stream",
     "text": [
      "[0.9253, 0.3174]\n",
      "[0.9280436686653154, 0.4613970895678904]\n",
      "[0.9253, 0.3174]\n",
      "[0.9255625700071943, 0.2677134401243799]\n"
     ]
    }
   ],
   "source": [
    "print(test_accuracy)\n",
    "print(test_precision)\n",
    "print(test_recall)\n",
    "print(test_f1_score)"
   ]
  },
  {
   "cell_type": "markdown",
   "metadata": {
    "id": "YWQqronzGcEn"
   },
   "source": [
    "## 6 clients cell\n"
   ]
  },
  {
   "cell_type": "code",
   "execution_count": 32,
   "metadata": {
    "id": "OUN9YHRYGd4w"
   },
   "outputs": [],
   "source": [
    "client_1 = (x_train[0:10000], y_train[0:10000])\n",
    "client_2 = (x_train[10000:20000], y_train[10000:20000])\n",
    "client_3 = (x_train[20000:30000], y_train[20000:30000])\n",
    "client_4 = (x_train[30000:40000], y_train[30000:40000])\n",
    "client_5 = (x_train[40000:50000], y_train[40000:50000])\n",
    "client_6 = (x_train[50000:], y_train[50000:])"
   ]
  },
  {
   "cell_type": "code",
   "execution_count": 33,
   "metadata": {
    "colab": {
     "base_uri": "https://localhost:8080/"
    },
    "id": "8ZulvDQEGXgS",
    "outputId": "051b2727-8625-43a7-e2c4-3d6d48f342b2"
   },
   "outputs": [
    {
     "name": "stdout",
     "output_type": "stream",
     "text": [
      "(10000, 28, 28, 1)\n",
      "(10000, 28, 28, 1)\n",
      "(10000, 28, 28, 1)\n",
      "(10000, 28, 28, 1)\n",
      "(10000, 28, 28, 1)\n",
      "(10000, 28, 28, 1)\n",
      "(10000,)\n",
      "(10000,)\n",
      "(10000,)\n",
      "(10000,)\n",
      "(10000,)\n",
      "(10000,)\n"
     ]
    }
   ],
   "source": [
    "print(client_1[0].shape)\n",
    "print(client_2[0].shape)\n",
    "print(client_3[0].shape)\n",
    "print(client_4[0].shape)\n",
    "print(client_5[0].shape)\n",
    "print(client_6[0].shape)\n",
    "\n",
    "print(client_1[1].shape)\n",
    "print(client_2[1].shape)\n",
    "print(client_3[1].shape)\n",
    "print(client_4[1].shape)\n",
    "print(client_5[1].shape)\n",
    "print(client_6[1].shape)"
   ]
  },
  {
   "cell_type": "code",
   "execution_count": 34,
   "metadata": {
    "colab": {
     "base_uri": "https://localhost:8080/"
    },
    "id": "3odWh-mwGXip",
    "outputId": "67730390-02ec-4bfc-a6cd-b0ae81990240"
   },
   "outputs": [
    {
     "name": "stdout",
     "output_type": "stream",
     "text": [
      "Epoch 1/5\n",
      "313/313 [==============================] - 1s 2ms/step - loss: 0.5142 - accuracy: 0.8622\n",
      "Epoch 2/5\n",
      "313/313 [==============================] - 0s 1ms/step - loss: 0.2346 - accuracy: 0.9338\n",
      "Epoch 3/5\n",
      "313/313 [==============================] - 0s 1ms/step - loss: 0.1715 - accuracy: 0.9516\n",
      "Epoch 4/5\n",
      "313/313 [==============================] - 0s 2ms/step - loss: 0.1308 - accuracy: 0.9625\n",
      "Epoch 5/5\n",
      "313/313 [==============================] - 0s 1ms/step - loss: 0.1015 - accuracy: 0.9722\n",
      "Epoch 1/5\n",
      "313/313 [==============================] - 1s 1ms/step - loss: 2.3211 - accuracy: 0.1035\n",
      "Epoch 2/5\n",
      "313/313 [==============================] - 0s 1ms/step - loss: 2.2946 - accuracy: 0.1200\n",
      "Epoch 3/5\n",
      "313/313 [==============================] - 0s 1ms/step - loss: 2.2821 - accuracy: 0.1409\n",
      "Epoch 4/5\n",
      "313/313 [==============================] - 0s 1ms/step - loss: 2.2623 - accuracy: 0.1530\n",
      "Epoch 5/5\n",
      "313/313 [==============================] - 0s 1ms/step - loss: 2.2381 - accuracy: 0.1706\n",
      "Epoch 1/5\n",
      "313/313 [==============================] - 1s 1ms/step - loss: 2.3183 - accuracy: 0.0995\n",
      "Epoch 2/5\n",
      "313/313 [==============================] - 0s 2ms/step - loss: 2.2957 - accuracy: 0.1201\n",
      "Epoch 3/5\n",
      "313/313 [==============================] - 0s 1ms/step - loss: 2.2815 - accuracy: 0.1380\n",
      "Epoch 4/5\n",
      "313/313 [==============================] - 0s 1ms/step - loss: 2.2628 - accuracy: 0.1469\n",
      "Epoch 5/5\n",
      "313/313 [==============================] - 0s 1ms/step - loss: 2.2382 - accuracy: 0.1747\n",
      "Epoch 1/5\n",
      "313/313 [==============================] - 1s 1ms/step - loss: 2.3214 - accuracy: 0.1035\n",
      "Epoch 2/5\n",
      "313/313 [==============================] - 0s 1ms/step - loss: 2.2911 - accuracy: 0.1312\n",
      "Epoch 3/5\n",
      "313/313 [==============================] - 0s 1ms/step - loss: 2.2727 - accuracy: 0.1448\n",
      "Epoch 4/5\n",
      "313/313 [==============================] - 0s 1ms/step - loss: 2.2505 - accuracy: 0.1604\n",
      "Epoch 5/5\n",
      "313/313 [==============================] - 0s 1ms/step - loss: 2.2184 - accuracy: 0.1820\n",
      "Epoch 1/5\n",
      "313/313 [==============================] - 1s 1ms/step - loss: 2.3219 - accuracy: 0.1017\n",
      "Epoch 2/5\n",
      "313/313 [==============================] - 0s 1ms/step - loss: 2.2930 - accuracy: 0.1266\n",
      "Epoch 3/5\n",
      "313/313 [==============================] - 0s 1ms/step - loss: 2.2770 - accuracy: 0.1398\n",
      "Epoch 4/5\n",
      "313/313 [==============================] - 0s 2ms/step - loss: 2.2558 - accuracy: 0.1586\n",
      "Epoch 5/5\n",
      "313/313 [==============================] - 0s 1ms/step - loss: 2.2222 - accuracy: 0.1793\n",
      "Epoch 1/5\n",
      "313/313 [==============================] - 1s 2ms/step - loss: 2.3197 - accuracy: 0.1021\n",
      "Epoch 2/5\n",
      "313/313 [==============================] - 0s 1ms/step - loss: 2.2943 - accuracy: 0.1235\n",
      "Epoch 3/5\n",
      "313/313 [==============================] - 0s 1ms/step - loss: 2.2807 - accuracy: 0.1366\n",
      "Epoch 4/5\n",
      "313/313 [==============================] - 0s 1ms/step - loss: 2.2611 - accuracy: 0.1466\n",
      "Epoch 5/5\n",
      "313/313 [==============================] - 0s 1ms/step - loss: 2.2345 - accuracy: 0.1741\n"
     ]
    }
   ],
   "source": [
    "client1_model = create_client_model()\n",
    "client2_model = create_client_model()\n",
    "client3_model = create_client_model()\n",
    "client4_model = create_client_model()\n",
    "client5_model = create_client_model()\n",
    "client6_model = create_client_model()\n",
    "\n",
    "client1_model = train_client_model(client1_model, client_1[0], client_1[1])\n",
    "client2_model = train_client_model(client2_model, client_2[0], client_1[1])\n",
    "client3_model = train_client_model(client3_model, client_3[0], client_1[1])\n",
    "client4_model = train_client_model(client4_model, client_4[0], client_1[1])\n",
    "client5_model = train_client_model(client5_model, client_5[0], client_1[1])\n",
    "client6_model = train_client_model(client6_model, client_6[0], client_1[1])"
   ]
  },
  {
   "cell_type": "code",
   "execution_count": 35,
   "metadata": {
    "id": "B5MLqCAHGXlC"
   },
   "outputs": [],
   "source": [
    "# Federated averaging\n",
    "def federated_average_weights(weights1, weights2, weights3, weights4, weights5, weights6):\n",
    "    new_weights = []\n",
    "    for w1, w2, w3, w4, w5, w6 in zip(weights1, weights2,  weights3,  weights4, weights5, weights6):\n",
    "        new_weights.append((w1 + w2 + w3 + w4 + w5 + w6) / 6)\n",
    "    return new_weights"
   ]
  },
  {
   "cell_type": "code",
   "execution_count": 36,
   "metadata": {
    "id": "CuinGGgdGXnK"
   },
   "outputs": [],
   "source": [
    "# Aggregate models\n",
    "aggregated_weights = federated_average_weights(client1_model.get_weights(), client2_model.get_weights(), client3_model.get_weights(), client4_model.get_weights(),client5_model.get_weights(),client6_model.get_weights())"
   ]
  },
  {
   "cell_type": "code",
   "execution_count": 37,
   "metadata": {
    "colab": {
     "base_uri": "https://localhost:8080/"
    },
    "id": "qY02p3OFGXpk",
    "outputId": "fc6752c3-8142-438e-fc7c-00b7134ecba5"
   },
   "outputs": [
    {
     "name": "stdout",
     "output_type": "stream",
     "text": [
      "313/313 - 0s - loss: 2.2863 - accuracy: 0.2573 - 402ms/epoch - 1ms/step\n",
      "Test accuracy: 0.2572999894618988\n"
     ]
    }
   ],
   "source": [
    "# Create global model and set weights\n",
    "global_model = create_client_model()\n",
    "global_model.set_weights(aggregated_weights)\n",
    "\n",
    "# Evaluate global model\n",
    "test_loss, test_acc = global_model.evaluate(x_test, y_test, verbose=2)\n",
    "print('Test accuracy:', test_acc)"
   ]
  },
  {
   "cell_type": "code",
   "execution_count": 38,
   "metadata": {
    "colab": {
     "base_uri": "https://localhost:8080/"
    },
    "id": "ctaORnw8GXrx",
    "outputId": "73367caf-598d-4f87-901d-c440d992eef8"
   },
   "outputs": [
    {
     "name": "stdout",
     "output_type": "stream",
     "text": [
      "313/313 [==============================] - 0s 926us/step\n",
      "(10000, 10)\n"
     ]
    }
   ],
   "source": [
    "prediction = global_model.predict(x_test)\n",
    "print(prediction.shape)\n",
    "\n",
    "prediction = list(prediction.argmax(axis=1))"
   ]
  },
  {
   "cell_type": "code",
   "execution_count": 39,
   "metadata": {
    "colab": {
     "base_uri": "https://localhost:8080/"
    },
    "id": "iYSLKm-YGXt5",
    "outputId": "7b24fba3-e0d2-42ae-aee0-026604ebf719"
   },
   "outputs": [
    {
     "name": "stdout",
     "output_type": "stream",
     "text": [
      "Accuracy test set: 0.2573\n",
      "precison test set: 0.2725372202651795\n",
      "Recall test set: 0.2573\n",
      "f-score test set: 0.20799879738149502\n"
     ]
    }
   ],
   "source": [
    "print(\"Accuracy test set:\", accuracy_score(y_test, prediction))\n",
    "print(\"precison test set:\", precision_score(y_test, prediction, average = 'weighted'))\n",
    "print(\"Recall test set:\", recall_score(y_test, prediction, average = 'weighted'))\n",
    "print(\"f-score test set:\", f1_score(y_test, prediction, average = 'weighted'))"
   ]
  },
  {
   "cell_type": "code",
   "execution_count": 40,
   "metadata": {},
   "outputs": [],
   "source": [
    "test_accuracy.append(0.2573)\n",
    "test_precision.append(0.2725372202651795)\n",
    "test_recall.append(0.2573)\n",
    "test_f1_score.append(0.20799879738149502)"
   ]
  },
  {
   "cell_type": "code",
   "execution_count": 41,
   "metadata": {},
   "outputs": [
    {
     "name": "stdout",
     "output_type": "stream",
     "text": [
      "[0.9253, 0.3174, 0.2573]\n",
      "[0.9280436686653154, 0.4613970895678904, 0.2725372202651795]\n",
      "[0.9253, 0.3174, 0.2573]\n",
      "[0.9255625700071943, 0.2677134401243799, 0.20799879738149502]\n"
     ]
    }
   ],
   "source": [
    "print(test_accuracy)\n",
    "print(test_precision)\n",
    "print(test_recall)\n",
    "print(test_f1_score)"
   ]
  },
  {
   "cell_type": "markdown",
   "metadata": {
    "id": "WmYXCZHwKifS"
   },
   "source": [
    "## 8 clients\n"
   ]
  },
  {
   "cell_type": "code",
   "execution_count": 42,
   "metadata": {
    "id": "l_vWSCvJGXwj"
   },
   "outputs": [],
   "source": [
    "client_1 = (x_train[0:7500], y_train[0:7500])\n",
    "client_2 = (x_train[7500:15000], y_train[7500:15000])\n",
    "client_3 = (x_train[15000:22500], y_train[15000:22500])\n",
    "client_4 = (x_train[22500:30000], y_train[22500:30000])\n",
    "client_5 = (x_train[30000:37500], y_train[30000:37500])\n",
    "client_6 = (x_train[37500:45000], y_train[37500:45000])\n",
    "client_7 = (x_train[45000:52500], y_train[45000:52500])\n",
    "client_8 = (x_train[52500:], y_train[52500:]) "
   ]
  },
  {
   "cell_type": "code",
   "execution_count": 43,
   "metadata": {
    "id": "eYS0Vw5vJwW-"
   },
   "outputs": [
    {
     "name": "stdout",
     "output_type": "stream",
     "text": [
      "(7500, 28, 28, 1)\n",
      "(7500, 28, 28, 1)\n",
      "(7500, 28, 28, 1)\n",
      "(7500, 28, 28, 1)\n",
      "(7500, 28, 28, 1)\n",
      "(7500, 28, 28, 1)\n",
      "(7500, 28, 28, 1)\n",
      "(7500, 28, 28, 1)\n",
      "(7500,)\n",
      "(7500,)\n",
      "(7500,)\n",
      "(7500,)\n",
      "(7500,)\n",
      "(7500,)\n",
      "(7500,)\n",
      "(7500,)\n"
     ]
    }
   ],
   "source": [
    "print(client_1[0].shape)\n",
    "print(client_2[0].shape)\n",
    "print(client_3[0].shape)\n",
    "print(client_4[0].shape)\n",
    "print(client_5[0].shape)\n",
    "print(client_6[0].shape)\n",
    "print(client_7[0].shape)\n",
    "print(client_8[0].shape)\n",
    "\n",
    "print(client_1[1].shape)\n",
    "print(client_2[1].shape)\n",
    "print(client_3[1].shape)\n",
    "print(client_4[1].shape)\n",
    "print(client_5[1].shape)\n",
    "print(client_6[1].shape)\n",
    "print(client_7[1].shape)\n",
    "print(client_8[1].shape)"
   ]
  },
  {
   "cell_type": "code",
   "execution_count": 44,
   "metadata": {
    "id": "cG6Wf5jyJwZV"
   },
   "outputs": [
    {
     "name": "stdout",
     "output_type": "stream",
     "text": [
      "Epoch 1/5\n",
      "235/235 [==============================] - 1s 1ms/step - loss: 0.5725 - accuracy: 0.8427\n",
      "Epoch 2/5\n",
      "235/235 [==============================] - 0s 1ms/step - loss: 0.2500 - accuracy: 0.9316\n",
      "Epoch 3/5\n",
      "235/235 [==============================] - 0s 1ms/step - loss: 0.1828 - accuracy: 0.9495\n",
      "Epoch 4/5\n",
      "235/235 [==============================] - 0s 1ms/step - loss: 0.1428 - accuracy: 0.9600\n",
      "Epoch 5/5\n",
      "235/235 [==============================] - 0s 1ms/step - loss: 0.1123 - accuracy: 0.9691\n",
      "Epoch 1/5\n",
      "235/235 [==============================] - 1s 1ms/step - loss: 0.6217 - accuracy: 0.8276\n",
      "Epoch 2/5\n",
      "235/235 [==============================] - 0s 1ms/step - loss: 0.2876 - accuracy: 0.9224\n",
      "Epoch 3/5\n",
      "235/235 [==============================] - 0s 2ms/step - loss: 0.2091 - accuracy: 0.9419\n",
      "Epoch 4/5\n",
      "235/235 [==============================] - 0s 1ms/step - loss: 0.1601 - accuracy: 0.9575\n",
      "Epoch 5/5\n",
      "235/235 [==============================] - 0s 1ms/step - loss: 0.1226 - accuracy: 0.9676\n",
      "Epoch 1/5\n",
      "235/235 [==============================] - 1s 1ms/step - loss: 0.5821 - accuracy: 0.8407\n",
      "Epoch 2/5\n",
      "235/235 [==============================] - 0s 1ms/step - loss: 0.2663 - accuracy: 0.9269\n",
      "Epoch 3/5\n",
      "235/235 [==============================] - 0s 1ms/step - loss: 0.2062 - accuracy: 0.9424\n",
      "Epoch 4/5\n",
      "235/235 [==============================] - 0s 1ms/step - loss: 0.1624 - accuracy: 0.9533\n",
      "Epoch 5/5\n",
      "235/235 [==============================] - 0s 1ms/step - loss: 0.1293 - accuracy: 0.9641\n",
      "Epoch 1/5\n",
      "235/235 [==============================] - 1s 1ms/step - loss: 0.5984 - accuracy: 0.8307\n",
      "Epoch 2/5\n",
      "235/235 [==============================] - 0s 1ms/step - loss: 0.2675 - accuracy: 0.9223\n",
      "Epoch 3/5\n",
      "235/235 [==============================] - 0s 1ms/step - loss: 0.2037 - accuracy: 0.9413\n",
      "Epoch 4/5\n",
      "235/235 [==============================] - 0s 1ms/step - loss: 0.1542 - accuracy: 0.9561\n",
      "Epoch 5/5\n",
      "235/235 [==============================] - 0s 1ms/step - loss: 0.1237 - accuracy: 0.9651\n",
      "Epoch 1/5\n",
      "235/235 [==============================] - 1s 2ms/step - loss: 0.6172 - accuracy: 0.8275\n",
      "Epoch 2/5\n",
      "235/235 [==============================] - 0s 1ms/step - loss: 0.2837 - accuracy: 0.9201\n",
      "Epoch 3/5\n",
      "235/235 [==============================] - 0s 1ms/step - loss: 0.2068 - accuracy: 0.9433\n",
      "Epoch 4/5\n",
      "235/235 [==============================] - 0s 2ms/step - loss: 0.1585 - accuracy: 0.9567\n",
      "Epoch 5/5\n",
      "235/235 [==============================] - 0s 1ms/step - loss: 0.1268 - accuracy: 0.9677\n",
      "Epoch 1/5\n",
      "235/235 [==============================] - 1s 2ms/step - loss: 0.6132 - accuracy: 0.8299\n",
      "Epoch 2/5\n",
      "235/235 [==============================] - 0s 1ms/step - loss: 0.2745 - accuracy: 0.9179\n",
      "Epoch 3/5\n",
      "235/235 [==============================] - 0s 2ms/step - loss: 0.2012 - accuracy: 0.9451\n",
      "Epoch 4/5\n",
      "235/235 [==============================] - 0s 2ms/step - loss: 0.1539 - accuracy: 0.9559\n",
      "Epoch 5/5\n",
      "235/235 [==============================] - 0s 1ms/step - loss: 0.1194 - accuracy: 0.9680\n",
      "Epoch 1/5\n",
      "235/235 [==============================] - 1s 1ms/step - loss: 0.5954 - accuracy: 0.8344\n",
      "Epoch 2/5\n",
      "235/235 [==============================] - 0s 2ms/step - loss: 0.2872 - accuracy: 0.9193\n",
      "Epoch 3/5\n",
      "235/235 [==============================] - 0s 2ms/step - loss: 0.2168 - accuracy: 0.9364\n",
      "Epoch 4/5\n",
      "235/235 [==============================] - 0s 2ms/step - loss: 0.1705 - accuracy: 0.9524\n",
      "Epoch 5/5\n",
      "235/235 [==============================] - 0s 1ms/step - loss: 0.1352 - accuracy: 0.9629\n",
      "Epoch 1/5\n",
      "235/235 [==============================] - 1s 1ms/step - loss: 0.5555 - accuracy: 0.8483\n",
      "Epoch 2/5\n",
      "235/235 [==============================] - 0s 1ms/step - loss: 0.2375 - accuracy: 0.9343\n",
      "Epoch 3/5\n",
      "235/235 [==============================] - 0s 1ms/step - loss: 0.1760 - accuracy: 0.9500\n",
      "Epoch 4/5\n",
      "235/235 [==============================] - 0s 1ms/step - loss: 0.1380 - accuracy: 0.9617\n",
      "Epoch 5/5\n",
      "235/235 [==============================] - 0s 1ms/step - loss: 0.1090 - accuracy: 0.9699\n"
     ]
    }
   ],
   "source": [
    "client1_model = create_client_model()\n",
    "client2_model = create_client_model()\n",
    "client3_model = create_client_model()\n",
    "client4_model = create_client_model()\n",
    "client5_model = create_client_model()\n",
    "client6_model = create_client_model()\n",
    "client7_model = create_client_model()\n",
    "client8_model = create_client_model()\n",
    "\n",
    "client1_model = train_client_model(client1_model, client_1[0], client_1[1])\n",
    "client2_model = train_client_model(client2_model, client_2[0], client_2[1])\n",
    "client3_model = train_client_model(client3_model, client_3[0], client_3[1])\n",
    "client4_model = train_client_model(client4_model, client_4[0], client_4[1])\n",
    "client5_model = train_client_model(client5_model, client_5[0], client_5[1])\n",
    "client6_model = train_client_model(client6_model, client_6[0], client_6[1])\n",
    "client7_model = train_client_model(client7_model, client_7[0], client_7[1])\n",
    "client8_model = train_client_model(client8_model, client_8[0], client_8[1])"
   ]
  },
  {
   "cell_type": "code",
   "execution_count": 45,
   "metadata": {
    "id": "xXh3uhF4Jwbe"
   },
   "outputs": [],
   "source": [
    "# Federated averaging\n",
    "def federated_average_weights(weights1, weights2, weights3, weights4,  weights5,  weights6,  weights7,  weights8):\n",
    "    new_weights = []\n",
    "    for w1, w2, w3, w4, w5, w6, w7, w8 in zip(weights1, weights2,  weights3,  weights4,  weights5,  weights6,  weights7,  weights8):\n",
    "        new_weights.append((w1 + w2 + w3 + w4 + w5 + w6 + w7 + w8) / 8)\n",
    "    return new_weights"
   ]
  },
  {
   "cell_type": "code",
   "execution_count": 46,
   "metadata": {
    "id": "MyDp11I_Jwdt"
   },
   "outputs": [],
   "source": [
    "# Aggregate models\n",
    "aggregated_weights = federated_average_weights(client1_model.get_weights(), client2_model.get_weights(), \n",
    "                                               client3_model.get_weights(), client4_model.get_weights(),  \n",
    "                                               client5_model.get_weights(), client6_model.get_weights(), \n",
    "                                               client7_model.get_weights(), client8_model.get_weights())"
   ]
  },
  {
   "cell_type": "code",
   "execution_count": 47,
   "metadata": {
    "id": "O-NfW_GUGXyh"
   },
   "outputs": [
    {
     "name": "stdout",
     "output_type": "stream",
     "text": [
      "313/313 - 0s - loss: 1.6181 - accuracy: 0.4458 - 405ms/epoch - 1ms/step\n",
      "Test accuracy: 0.4458000063896179\n"
     ]
    }
   ],
   "source": [
    "# Create global model and set weights\n",
    "global_model = create_client_model()\n",
    "global_model.set_weights(aggregated_weights)\n",
    "\n",
    "# Evaluate global model\n",
    "test_loss, test_acc = global_model.evaluate(x_test, y_test, verbose=2)\n",
    "print('Test accuracy:', test_acc)"
   ]
  },
  {
   "cell_type": "code",
   "execution_count": 48,
   "metadata": {
    "id": "iryi3SEEKAE2"
   },
   "outputs": [
    {
     "name": "stdout",
     "output_type": "stream",
     "text": [
      "313/313 [==============================] - 0s 953us/step\n",
      "(10000, 10)\n"
     ]
    }
   ],
   "source": [
    "prediction = global_model.predict(x_test)\n",
    "print(prediction.shape)\n",
    "\n",
    "prediction = list(prediction.argmax(axis=1))"
   ]
  },
  {
   "cell_type": "code",
   "execution_count": 49,
   "metadata": {
    "id": "ymbl_sU1KAHX"
   },
   "outputs": [
    {
     "name": "stdout",
     "output_type": "stream",
     "text": [
      "Accuracy test set: 0.4458\n",
      "precison test set: 0.7781059567805881\n",
      "Recall test set: 0.4458\n",
      "f-score test set: 0.4330983600917826\n"
     ]
    },
    {
     "name": "stderr",
     "output_type": "stream",
     "text": [
      "D:\\Softwares\\Coding\\Anaconda\\Lib\\site-packages\\sklearn\\metrics\\_classification.py:1469: UndefinedMetricWarning: Precision is ill-defined and being set to 0.0 in labels with no predicted samples. Use `zero_division` parameter to control this behavior.\n",
      "  _warn_prf(average, modifier, msg_start, len(result))\n"
     ]
    }
   ],
   "source": [
    "print(\"Accuracy test set:\", accuracy_score(y_test, prediction))\n",
    "print(\"precison test set:\", precision_score(y_test, prediction, average = 'weighted'))\n",
    "print(\"Recall test set:\", recall_score(y_test, prediction, average = 'weighted'))\n",
    "print(\"f-score test set:\", f1_score(y_test, prediction, average = 'weighted'))"
   ]
  },
  {
   "cell_type": "code",
   "execution_count": 50,
   "metadata": {},
   "outputs": [],
   "source": [
    "test_accuracy.append(0.4458)\n",
    "test_precision.append(0.7781059567805881)\n",
    "test_recall.append(0.4458)\n",
    "test_f1_score.append(0.4330983600917826)"
   ]
  },
  {
   "cell_type": "code",
   "execution_count": 51,
   "metadata": {},
   "outputs": [
    {
     "name": "stdout",
     "output_type": "stream",
     "text": [
      "[0.9253, 0.3174, 0.2573, 0.4458]\n",
      "[0.9280436686653154, 0.4613970895678904, 0.2725372202651795, 0.7781059567805881]\n",
      "[0.9253, 0.3174, 0.2573, 0.4458]\n",
      "[0.9255625700071943, 0.2677134401243799, 0.20799879738149502, 0.4330983600917826]\n"
     ]
    }
   ],
   "source": [
    "print(test_accuracy)\n",
    "print(test_precision)\n",
    "print(test_recall)\n",
    "print(test_f1_score)"
   ]
  },
  {
   "cell_type": "markdown",
   "metadata": {
    "id": "N4ZEjacGKAJl"
   },
   "source": [
    "## 10 clients"
   ]
  },
  {
   "cell_type": "code",
   "execution_count": 52,
   "metadata": {},
   "outputs": [],
   "source": [
    "client_1 = (x_train[0:6000],y_train[0:6000])\n",
    "client_2= (x_train[6000:12000],y_train[6000:12000])\n",
    "client_3= (x_train[12000:18000],y_train[12000:18000])\n",
    "client_4= (x_train[18000:24000], y_train[18000:24000])\n",
    "client_5=(x_train[24000:30000], y_train[24000:30000])\n",
    "client_6= (x_train[30000:36000], y_train[30000:36000])\n",
    "client_7=(x_train[36000:42000], y_train[36000:42000])\n",
    "client_8=(x_train[42000:48000], y_train[42000:48000])\n",
    "client_9=(x_train[48000:54000], y_train[48000:54000])\n",
    "client_10=(x_train[54000:],y_train[54000:])"
   ]
  },
  {
   "cell_type": "code",
   "execution_count": 53,
   "metadata": {},
   "outputs": [
    {
     "name": "stdout",
     "output_type": "stream",
     "text": [
      "(6000, 28, 28, 1)\n",
      "(6000, 28, 28, 1)\n",
      "(6000, 28, 28, 1)\n",
      "(6000, 28, 28, 1)\n",
      "(6000, 28, 28, 1)\n",
      "(6000, 28, 28, 1)\n",
      "(6000, 28, 28, 1)\n",
      "(6000, 28, 28, 1)\n",
      "(6000, 28, 28, 1)\n",
      "(6000, 28, 28, 1)\n",
      "(6000,)\n",
      "(6000,)\n",
      "(6000,)\n",
      "(6000,)\n",
      "(6000,)\n",
      "(6000,)\n",
      "(6000,)\n",
      "(6000,)\n",
      "(6000,)\n",
      "(6000,)\n"
     ]
    }
   ],
   "source": [
    "print(client_1[0].shape)\n",
    "print(client_2[0].shape)\n",
    "print(client_3[0].shape)\n",
    "print(client_4[0].shape)\n",
    "print(client_5[0].shape)\n",
    "print(client_6[0].shape)\n",
    "print(client_7[0].shape)\n",
    "print(client_8[0].shape)\n",
    "print(client_9[0].shape)\n",
    "print(client_10[0].shape)\n",
    "\n",
    "print(client_1[1].shape)\n",
    "print(client_2[1].shape)\n",
    "print(client_3[1].shape)\n",
    "print(client_4[1].shape)\n",
    "print(client_5[1].shape)\n",
    "print(client_6[1].shape)\n",
    "print(client_7[1].shape)\n",
    "print(client_8[1].shape)\n",
    "print(client_9[1].shape)\n",
    "print(client_10[1].shape)"
   ]
  },
  {
   "cell_type": "code",
   "execution_count": 54,
   "metadata": {},
   "outputs": [
    {
     "name": "stdout",
     "output_type": "stream",
     "text": [
      "Epoch 1/5\n",
      "188/188 [==============================] - 1s 2ms/step - loss: 0.6429 - accuracy: 0.8255\n",
      "Epoch 2/5\n",
      "188/188 [==============================] - 0s 2ms/step - loss: 0.2814 - accuracy: 0.9237\n",
      "Epoch 3/5\n",
      "188/188 [==============================] - 0s 1ms/step - loss: 0.2124 - accuracy: 0.9418\n",
      "Epoch 4/5\n",
      "188/188 [==============================] - 0s 2ms/step - loss: 0.1644 - accuracy: 0.9560\n",
      "Epoch 5/5\n",
      "188/188 [==============================] - 0s 1ms/step - loss: 0.1295 - accuracy: 0.9670\n",
      "Epoch 1/5\n",
      "188/188 [==============================] - 1s 2ms/step - loss: 0.6590 - accuracy: 0.8198\n",
      "Epoch 2/5\n",
      "188/188 [==============================] - 0s 2ms/step - loss: 0.2844 - accuracy: 0.9250\n",
      "Epoch 3/5\n",
      "188/188 [==============================] - 0s 1ms/step - loss: 0.2142 - accuracy: 0.9405\n",
      "Epoch 4/5\n",
      "188/188 [==============================] - 0s 2ms/step - loss: 0.1673 - accuracy: 0.9542\n",
      "Epoch 5/5\n",
      "188/188 [==============================] - 0s 2ms/step - loss: 0.1367 - accuracy: 0.9620\n",
      "Epoch 1/5\n",
      "188/188 [==============================] - 1s 2ms/step - loss: 0.7134 - accuracy: 0.8008\n",
      "Epoch 2/5\n",
      "188/188 [==============================] - 0s 2ms/step - loss: 0.3259 - accuracy: 0.9080\n",
      "Epoch 3/5\n",
      "188/188 [==============================] - 0s 2ms/step - loss: 0.2378 - accuracy: 0.9337\n",
      "Epoch 4/5\n",
      "188/188 [==============================] - 0s 2ms/step - loss: 0.1836 - accuracy: 0.9472\n",
      "Epoch 5/5\n",
      "188/188 [==============================] - 0s 2ms/step - loss: 0.1376 - accuracy: 0.9640\n",
      "Epoch 1/5\n",
      "188/188 [==============================] - 1s 2ms/step - loss: 0.6423 - accuracy: 0.8272\n",
      "Epoch 2/5\n",
      "188/188 [==============================] - 0s 2ms/step - loss: 0.2760 - accuracy: 0.9242\n",
      "Epoch 3/5\n",
      "188/188 [==============================] - 0s 2ms/step - loss: 0.2062 - accuracy: 0.9455\n",
      "Epoch 4/5\n",
      "188/188 [==============================] - 0s 2ms/step - loss: 0.1655 - accuracy: 0.9540\n",
      "Epoch 5/5\n",
      "188/188 [==============================] - 0s 2ms/step - loss: 0.1263 - accuracy: 0.9673\n",
      "Epoch 1/5\n",
      "188/188 [==============================] - 1s 2ms/step - loss: 0.6708 - accuracy: 0.8148\n",
      "Epoch 2/5\n",
      "188/188 [==============================] - 0s 2ms/step - loss: 0.2817 - accuracy: 0.9210\n",
      "Epoch 3/5\n",
      "188/188 [==============================] - 0s 2ms/step - loss: 0.2090 - accuracy: 0.9417\n",
      "Epoch 4/5\n",
      "188/188 [==============================] - 0s 2ms/step - loss: 0.1615 - accuracy: 0.9542\n",
      "Epoch 5/5\n",
      "188/188 [==============================] - 0s 2ms/step - loss: 0.1279 - accuracy: 0.9642\n",
      "Epoch 1/5\n",
      "188/188 [==============================] - 1s 2ms/step - loss: 0.6752 - accuracy: 0.8078\n",
      "Epoch 2/5\n",
      "188/188 [==============================] - 0s 2ms/step - loss: 0.2945 - accuracy: 0.9183\n",
      "Epoch 3/5\n",
      "188/188 [==============================] - 0s 2ms/step - loss: 0.2220 - accuracy: 0.9388\n",
      "Epoch 4/5\n",
      "188/188 [==============================] - 0s 2ms/step - loss: 0.1720 - accuracy: 0.9523\n",
      "Epoch 5/5\n",
      "188/188 [==============================] - 0s 2ms/step - loss: 0.1348 - accuracy: 0.9623\n",
      "Epoch 1/5\n",
      "188/188 [==============================] - 1s 2ms/step - loss: 0.6893 - accuracy: 0.8140\n",
      "Epoch 2/5\n",
      "188/188 [==============================] - 0s 2ms/step - loss: 0.2984 - accuracy: 0.9172\n",
      "Epoch 3/5\n",
      "188/188 [==============================] - 0s 2ms/step - loss: 0.2300 - accuracy: 0.9320\n",
      "Epoch 4/5\n",
      "188/188 [==============================] - 0s 2ms/step - loss: 0.1763 - accuracy: 0.9510\n",
      "Epoch 5/5\n",
      "188/188 [==============================] - 0s 2ms/step - loss: 0.1432 - accuracy: 0.9613\n",
      "Epoch 1/5\n",
      "188/188 [==============================] - 1s 2ms/step - loss: 0.6681 - accuracy: 0.8187\n",
      "Epoch 2/5\n",
      "188/188 [==============================] - 0s 2ms/step - loss: 0.2997 - accuracy: 0.9163\n",
      "Epoch 3/5\n",
      "188/188 [==============================] - 0s 2ms/step - loss: 0.2223 - accuracy: 0.9382\n",
      "Epoch 4/5\n",
      "188/188 [==============================] - 0s 2ms/step - loss: 0.1708 - accuracy: 0.9540\n",
      "Epoch 5/5\n",
      "188/188 [==============================] - 0s 2ms/step - loss: 0.1376 - accuracy: 0.9640\n",
      "Epoch 1/5\n",
      "188/188 [==============================] - 0s 2ms/step - loss: 0.2347 - accuracy: 0.9288\n",
      "Epoch 2/5\n",
      "188/188 [==============================] - 0s 2ms/step - loss: 0.1478 - accuracy: 0.9570\n",
      "Epoch 3/5\n",
      "188/188 [==============================] - 0s 2ms/step - loss: 0.1086 - accuracy: 0.9695\n",
      "Epoch 4/5\n",
      "188/188 [==============================] - 0s 2ms/step - loss: 0.0853 - accuracy: 0.9780\n",
      "Epoch 5/5\n",
      "188/188 [==============================] - 0s 2ms/step - loss: 0.0658 - accuracy: 0.9855\n",
      "Epoch 1/5\n",
      "188/188 [==============================] - 0s 2ms/step - loss: 0.1321 - accuracy: 0.9605\n",
      "Epoch 2/5\n",
      "188/188 [==============================] - 0s 2ms/step - loss: 0.0789 - accuracy: 0.9775\n",
      "Epoch 3/5\n",
      "188/188 [==============================] - 0s 2ms/step - loss: 0.0540 - accuracy: 0.9865\n",
      "Epoch 4/5\n",
      "188/188 [==============================] - 0s 2ms/step - loss: 0.0374 - accuracy: 0.9920\n",
      "Epoch 5/5\n",
      "188/188 [==============================] - 0s 2ms/step - loss: 0.0286 - accuracy: 0.9957\n"
     ]
    }
   ],
   "source": [
    "client1_model = create_client_model()\n",
    "client2_model = create_client_model()\n",
    "client3_model = create_client_model()\n",
    "client4_model = create_client_model()\n",
    "client5_model = create_client_model()\n",
    "client6_model = create_client_model()\n",
    "client7_model = create_client_model()\n",
    "client8_model = create_client_model()\n",
    "client9_model = create_client_model()\n",
    "client10_model = create_client_model()\n",
    "\n",
    "client1_model = train_client_model(client1_model, client_1[0], client_1[1])\n",
    "client2_model = train_client_model(client2_model, client_2[0], client_2[1])\n",
    "client3_model = train_client_model(client3_model, client_3[0], client_3[1])\n",
    "client4_model = train_client_model(client4_model, client_4[0], client_4[1])\n",
    "client5_model = train_client_model(client5_model, client_5[0], client_5[1])\n",
    "client6_model = train_client_model(client6_model, client_6[0], client_6[1])\n",
    "client7_model = train_client_model(client7_model, client_7[0], client_7[1])\n",
    "client8_model = train_client_model(client8_model, client_8[0], client_8[1])\n",
    "client9_model = train_client_model(client8_model, client_9[0], client_9[1])\n",
    "client10_model = train_client_model(client8_model, client_10[0], client_10[1])"
   ]
  },
  {
   "cell_type": "code",
   "execution_count": 55,
   "metadata": {},
   "outputs": [],
   "source": [
    "# Federated averaging\n",
    "def federated_average_weights(weights1, weights2, weights3, weights4,  weights5,  weights6,  weights7,  weights8, weights9, weights10):\n",
    "    new_weights = []\n",
    "    for w1, w2, w3, w4, w5, w6, w7, w8, w9, w10 in zip(weights1, weights2,  weights3,  weights4,  weights5,  weights6,  weights7,  weights8, weights9, weights10):\n",
    "        new_weights.append((w1 + w2 + w3 + w4 + w5 + w6 + w7 + w8 + w9 + w10) / 10)\n",
    "    return new_weights"
   ]
  },
  {
   "cell_type": "code",
   "execution_count": 56,
   "metadata": {},
   "outputs": [],
   "source": [
    "# Aggregate models\n",
    "aggregated_weights = federated_average_weights(client1_model.get_weights(), client2_model.get_weights(), \n",
    "                                               client3_model.get_weights(), client4_model.get_weights(),  \n",
    "                                               client5_model.get_weights(), client6_model.get_weights(), \n",
    "                                               client7_model.get_weights(), client8_model.get_weights(),\n",
    "                                               client9_model.get_weights(), client10_model.get_weights())\n",
    "# Create global model and set weights\n",
    "global_model = create_client_model()\n",
    "global_model.set_weights(aggregated_weights)\n"
   ]
  },
  {
   "cell_type": "code",
   "execution_count": 57,
   "metadata": {},
   "outputs": [
    {
     "name": "stdout",
     "output_type": "stream",
     "text": [
      "313/313 - 0s - loss: 1.1103 - accuracy: 0.8090 - 412ms/epoch - 1ms/step\n",
      "Test accuracy: 0.8090000152587891\n",
      "313/313 [==============================] - 0s 988us/step\n",
      "(10000, 10)\n"
     ]
    }
   ],
   "source": [
    "# Evaluate global model\n",
    "test_loss, test_acc = global_model.evaluate(x_test, y_test, verbose=2)\n",
    "print('Test accuracy:', test_acc)\n",
    "\n",
    "prediction = global_model.predict(x_test)\n",
    "print(prediction.shape)\n",
    "\n",
    "prediction = list(prediction.argmax(axis=1))"
   ]
  },
  {
   "cell_type": "code",
   "execution_count": 58,
   "metadata": {},
   "outputs": [
    {
     "name": "stdout",
     "output_type": "stream",
     "text": [
      "Accuracy test set: 0.809\n",
      "precison test set: 0.8751506264060693\n",
      "Recall test set: 0.809\n",
      "f-score test set: 0.808654347585142\n",
      "              precision    recall  f1-score   support\n",
      "\n",
      "           0       0.98      0.58      0.73       980\n",
      "           1       0.98      0.96      0.97      1135\n",
      "           2       0.85      0.89      0.87      1032\n",
      "           3       0.80      0.92      0.86      1010\n",
      "           4       0.83      0.98      0.90       982\n",
      "           5       0.44      0.96      0.60       892\n",
      "           6       0.98      0.73      0.83       958\n",
      "           7       0.85      0.95      0.90      1028\n",
      "           8       1.00      0.36      0.53       974\n",
      "           9       0.98      0.73      0.84      1009\n",
      "\n",
      "    accuracy                           0.81     10000\n",
      "   macro avg       0.87      0.81      0.80     10000\n",
      "weighted avg       0.88      0.81      0.81     10000\n",
      "\n"
     ]
    }
   ],
   "source": [
    "print(\"Accuracy test set:\", accuracy_score(y_test, prediction))\n",
    "print(\"precison test set:\", precision_score(y_test, prediction, average = 'weighted'))\n",
    "print(\"Recall test set:\", recall_score(y_test, prediction, average = 'weighted'))\n",
    "print(\"f-score test set:\", f1_score(y_test, prediction, average = 'weighted'))\n",
    "\n",
    "print(classification_report(y_test, prediction))"
   ]
  },
  {
   "cell_type": "code",
   "execution_count": 59,
   "metadata": {},
   "outputs": [
    {
     "name": "stdout",
     "output_type": "stream",
     "text": [
      "[0.9253, 0.3174, 0.2573, 0.4458, 0.809]\n",
      "[0.9280436686653154, 0.4613970895678904, 0.2725372202651795, 0.7781059567805881, 0.8751506264060693]\n",
      "[0.9253, 0.3174, 0.2573, 0.4458, 0.809]\n",
      "[0.9255625700071943, 0.2677134401243799, 0.20799879738149502, 0.4330983600917826, 0.808654347585142]\n"
     ]
    }
   ],
   "source": [
    "test_accuracy.append(0.809)\n",
    "test_precision.append(0.8751506264060693)\n",
    "test_recall.append(0.809)\n",
    "test_f1_score.append(0.808654347585142)\n",
    "\n",
    "print(test_accuracy)\n",
    "print(test_precision)\n",
    "print(test_recall)\n",
    "print(test_f1_score)"
   ]
  },
  {
   "cell_type": "markdown",
   "metadata": {},
   "source": [
    "Plot the model's performance for the number of clients ranging from 2, 4, 6, 8, and 10.¶"
   ]
  },
  {
   "cell_type": "code",
   "execution_count": 60,
   "metadata": {},
   "outputs": [],
   "source": [
    "import pandas as pd"
   ]
  },
  {
   "cell_type": "code",
   "execution_count": 61,
   "metadata": {},
   "outputs": [
    {
     "name": "stdout",
     "output_type": "stream",
     "text": [
      "[[0.9253, 0.3174, 0.2573, 0.4458, 0.809], [0.9280436686653154, 0.4613970895678904, 0.2725372202651795, 0.7781059567805881, 0.8751506264060693], [0.9253, 0.3174, 0.2573, 0.4458, 0.809], [0.9255625700071943, 0.2677134401243799, 0.20799879738149502, 0.4330983600917826, 0.808654347585142]]\n"
     ]
    },
    {
     "data": {
      "text/html": [
       "<div>\n",
       "<style scoped>\n",
       "    .dataframe tbody tr th:only-of-type {\n",
       "        vertical-align: middle;\n",
       "    }\n",
       "\n",
       "    .dataframe tbody tr th {\n",
       "        vertical-align: top;\n",
       "    }\n",
       "\n",
       "    .dataframe thead th {\n",
       "        text-align: right;\n",
       "    }\n",
       "</style>\n",
       "<table border=\"1\" class=\"dataframe\">\n",
       "  <thead>\n",
       "    <tr style=\"text-align: right;\">\n",
       "      <th></th>\n",
       "      <th>Accuracy</th>\n",
       "      <th>Precision</th>\n",
       "      <th>Recall</th>\n",
       "      <th>F1_Score</th>\n",
       "    </tr>\n",
       "  </thead>\n",
       "  <tbody>\n",
       "    <tr>\n",
       "      <th>2</th>\n",
       "      <td>0.9253</td>\n",
       "      <td>0.928044</td>\n",
       "      <td>0.9253</td>\n",
       "      <td>0.925563</td>\n",
       "    </tr>\n",
       "    <tr>\n",
       "      <th>4</th>\n",
       "      <td>0.3174</td>\n",
       "      <td>0.461397</td>\n",
       "      <td>0.3174</td>\n",
       "      <td>0.267713</td>\n",
       "    </tr>\n",
       "    <tr>\n",
       "      <th>6</th>\n",
       "      <td>0.2573</td>\n",
       "      <td>0.272537</td>\n",
       "      <td>0.2573</td>\n",
       "      <td>0.207999</td>\n",
       "    </tr>\n",
       "    <tr>\n",
       "      <th>8</th>\n",
       "      <td>0.4458</td>\n",
       "      <td>0.778106</td>\n",
       "      <td>0.4458</td>\n",
       "      <td>0.433098</td>\n",
       "    </tr>\n",
       "    <tr>\n",
       "      <th>10</th>\n",
       "      <td>0.8090</td>\n",
       "      <td>0.875151</td>\n",
       "      <td>0.8090</td>\n",
       "      <td>0.808654</td>\n",
       "    </tr>\n",
       "  </tbody>\n",
       "</table>\n",
       "</div>"
      ],
      "text/plain": [
       "    Accuracy  Precision  Recall  F1_Score\n",
       "2     0.9253   0.928044  0.9253  0.925563\n",
       "4     0.3174   0.461397  0.3174  0.267713\n",
       "6     0.2573   0.272537  0.2573  0.207999\n",
       "8     0.4458   0.778106  0.4458  0.433098\n",
       "10    0.8090   0.875151  0.8090  0.808654"
      ]
     },
     "execution_count": 61,
     "metadata": {},
     "output_type": "execute_result"
    }
   ],
   "source": [
    "ErrorMetrics = []\n",
    "ErrorMetrics.append(test_accuracy)\n",
    "ErrorMetrics.append(test_precision)\n",
    "ErrorMetrics.append(test_recall)\n",
    "ErrorMetrics.append(test_f1_score)\n",
    "\n",
    "print(ErrorMetrics)\n",
    "\n",
    "ErrorMetrics_pd = pd.DataFrame(ErrorMetrics)\n",
    "ErrorMetrics_pd.columns = [2,4,6,8,10]\n",
    "ErrorMetrics_pd = ErrorMetrics_pd.T\n",
    "ErrorMetrics_pd.columns = ['Accuracy','Precision','Recall','F1_Score']\n",
    "ErrorMetrics_pd"
   ]
  },
  {
   "cell_type": "code",
   "execution_count": 62,
   "metadata": {},
   "outputs": [
    {
     "data": {
      "text/plain": [
       "<Axes: >"
      ]
     },
     "execution_count": 62,
     "metadata": {},
     "output_type": "execute_result"
    },
    {
     "data": {
      "image/png": "[encoded data removed]",
      "text/plain": [
       "<Figure size 640x480 with 1 Axes>"
      ]
     },
     "metadata": {},
     "output_type": "display_data"
    }
   ],
   "source": [
    "ErrorMetrics_pd.plot.bar(width=0.7, alpha=0.7)"
   ]
  },
  {
   "cell_type": "markdown",
   "metadata": {},
   "source": [
    "## Dishonest "
   ]
  },
  {
   "cell_type": "code",
   "execution_count": 63,
   "metadata": {},
   "outputs": [],
   "source": [
    "# Split data into 8 clients\n",
    "client_1 = (x_train[0:7500], y_train[0:7500])\n",
    "client_2 = (x_train[7500:15000], y_train[7500:15000])\n",
    "client_3 = (x_train[15000:22500], y_train[15000:22500])\n",
    "client_4 = (x_train[22500:30000], y_train[22500:30000])\n",
    "client_5 = (x_train[30000:37500], y_train[30000:37500])\n",
    "client_6 = (x_train[37500:45000], y_train[37500:45000])\n",
    "client_7 = (x_train[45000:52500], y_train[45000:52500])\n",
    "client_8 = (x_train[52500:], y_train[52500:]) "
   ]
  },
  {
   "cell_type": "code",
   "execution_count": 64,
   "metadata": {},
   "outputs": [
    {
     "data": {
      "text/plain": [
       "7500"
      ]
     },
     "execution_count": 64,
     "metadata": {},
     "output_type": "execute_result"
    }
   ],
   "source": [
    "client_7[1].size"
   ]
  },
  {
   "cell_type": "code",
   "execution_count": 65,
   "metadata": {},
   "outputs": [
    {
     "data": {
      "text/plain": [
       "array([3, 1, 1, ..., 7, 1, 4], dtype=uint8)"
      ]
     },
     "execution_count": 65,
     "metadata": {},
     "output_type": "execute_result"
    }
   ],
   "source": [
    "client_7[1]"
   ]
  },
  {
   "cell_type": "code",
   "execution_count": 66,
   "metadata": {},
   "outputs": [],
   "source": [
    "client_7[1][:7000] = 7"
   ]
  },
  {
   "cell_type": "code",
   "execution_count": 67,
   "metadata": {},
   "outputs": [
    {
     "data": {
      "text/plain": [
       "array([7, 7, 7, ..., 7, 1, 4], dtype=uint8)"
      ]
     },
     "execution_count": 67,
     "metadata": {},
     "output_type": "execute_result"
    }
   ],
   "source": [
    "client_7[1]"
   ]
  },
  {
   "cell_type": "code",
   "execution_count": 68,
   "metadata": {},
   "outputs": [
    {
     "name": "stdout",
     "output_type": "stream",
     "text": [
      "(7500, 28, 28, 1)\n",
      "(7500, 28, 28, 1)\n",
      "(7500, 28, 28, 1)\n",
      "(7500, 28, 28, 1)\n",
      "(7500, 28, 28, 1)\n",
      "(7500, 28, 28, 1)\n",
      "(7500, 28, 28, 1)\n",
      "(7500, 28, 28, 1)\n",
      "(7500,)\n",
      "(7500,)\n",
      "(7500,)\n",
      "(7500,)\n",
      "(7500,)\n",
      "(7500,)\n",
      "(7500,)\n",
      "(7500,)\n"
     ]
    }
   ],
   "source": [
    "print(client_1[0].shape)\n",
    "print(client_2[0].shape)\n",
    "print(client_3[0].shape)\n",
    "print(client_4[0].shape)\n",
    "print(client_5[0].shape)\n",
    "print(client_6[0].shape)\n",
    "print(client_7[0].shape)\n",
    "print(client_8[0].shape)\n",
    "\n",
    "print(client_1[1].shape)\n",
    "print(client_2[1].shape)\n",
    "print(client_3[1].shape)\n",
    "print(client_4[1].shape)\n",
    "print(client_5[1].shape)\n",
    "print(client_6[1].shape)\n",
    "print(client_7[1].shape)\n",
    "print(client_8[1].shape)"
   ]
  },
  {
   "cell_type": "code",
   "execution_count": 69,
   "metadata": {},
   "outputs": [
    {
     "name": "stdout",
     "output_type": "stream",
     "text": [
      "Epoch 1/5\n",
      "235/235 [==============================] - 1s 2ms/step - loss: 0.5662 - accuracy: 0.8451\n",
      "Epoch 2/5\n",
      "235/235 [==============================] - 0s 2ms/step - loss: 0.2554 - accuracy: 0.9279\n",
      "Epoch 3/5\n",
      "235/235 [==============================] - 0s 1ms/step - loss: 0.1852 - accuracy: 0.9497\n",
      "Epoch 4/5\n",
      "235/235 [==============================] - 0s 2ms/step - loss: 0.1453 - accuracy: 0.9588\n",
      "Epoch 5/5\n",
      "235/235 [==============================] - 0s 1ms/step - loss: 0.1148 - accuracy: 0.9681\n",
      "Epoch 1/5\n",
      "235/235 [==============================] - 1s 1ms/step - loss: 2.3235 - accuracy: 0.1096\n",
      "Epoch 2/5\n",
      "235/235 [==============================] - 0s 2ms/step - loss: 2.2884 - accuracy: 0.1328\n",
      "Epoch 3/5\n",
      "235/235 [==============================] - 0s 2ms/step - loss: 2.2681 - accuracy: 0.1464\n",
      "Epoch 4/5\n",
      "235/235 [==============================] - 0s 2ms/step - loss: 2.2425 - accuracy: 0.1688\n",
      "Epoch 5/5\n",
      "235/235 [==============================] - 0s 2ms/step - loss: 2.2065 - accuracy: 0.1932\n",
      "Epoch 1/5\n",
      "235/235 [==============================] - 1s 2ms/step - loss: 2.3228 - accuracy: 0.1056\n",
      "Epoch 2/5\n",
      "235/235 [==============================] - 0s 2ms/step - loss: 2.2853 - accuracy: 0.1391\n",
      "Epoch 3/5\n",
      "235/235 [==============================] - 0s 2ms/step - loss: 2.2656 - accuracy: 0.1457\n",
      "Epoch 4/5\n",
      "235/235 [==============================] - 0s 2ms/step - loss: 2.2378 - accuracy: 0.1677\n",
      "Epoch 5/5\n",
      "235/235 [==============================] - 0s 1ms/step - loss: 2.2058 - accuracy: 0.1861\n",
      "Epoch 1/5\n",
      "235/235 [==============================] - 1s 1ms/step - loss: 2.3218 - accuracy: 0.1059\n",
      "Epoch 2/5\n",
      "235/235 [==============================] - 0s 1ms/step - loss: 2.2852 - accuracy: 0.1347\n",
      "Epoch 3/5\n",
      "235/235 [==============================] - 0s 1ms/step - loss: 2.2639 - accuracy: 0.1541\n",
      "Epoch 4/5\n",
      "235/235 [==============================] - 0s 1ms/step - loss: 2.2340 - accuracy: 0.1704\n",
      "Epoch 5/5\n",
      "235/235 [==============================] - 0s 1ms/step - loss: 2.1997 - accuracy: 0.1967\n",
      "Epoch 1/5\n",
      "235/235 [==============================] - 1s 2ms/step - loss: 2.3228 - accuracy: 0.1061\n",
      "Epoch 2/5\n",
      "235/235 [==============================] - 0s 1ms/step - loss: 2.2847 - accuracy: 0.1332\n",
      "Epoch 3/5\n",
      "235/235 [==============================] - 0s 2ms/step - loss: 2.2608 - accuracy: 0.1555\n",
      "Epoch 4/5\n",
      "235/235 [==============================] - 0s 2ms/step - loss: 2.2326 - accuracy: 0.1804\n",
      "Epoch 5/5\n",
      "235/235 [==============================] - 0s 2ms/step - loss: 2.1953 - accuracy: 0.2013\n",
      "Epoch 1/5\n",
      "235/235 [==============================] - 1s 2ms/step - loss: 2.3221 - accuracy: 0.0968\n",
      "Epoch 2/5\n",
      "235/235 [==============================] - 0s 2ms/step - loss: 2.2930 - accuracy: 0.1253\n",
      "Epoch 3/5\n",
      "235/235 [==============================] - 0s 2ms/step - loss: 2.2754 - accuracy: 0.1449\n",
      "Epoch 4/5\n",
      "235/235 [==============================] - 0s 1ms/step - loss: 2.2515 - accuracy: 0.1607\n",
      "Epoch 5/5\n",
      "235/235 [==============================] - 0s 1ms/step - loss: 2.2163 - accuracy: 0.1843\n",
      "Epoch 1/5\n",
      "235/235 [==============================] - 1s 1ms/step - loss: 2.3272 - accuracy: 0.1037\n",
      "Epoch 2/5\n",
      "235/235 [==============================] - 0s 1ms/step - loss: 2.2829 - accuracy: 0.1377\n",
      "Epoch 3/5\n",
      "235/235 [==============================] - 0s 1ms/step - loss: 2.2612 - accuracy: 0.1559\n",
      "Epoch 4/5\n",
      "235/235 [==============================] - 0s 2ms/step - loss: 2.2238 - accuracy: 0.1832\n",
      "Epoch 5/5\n",
      "235/235 [==============================] - 0s 2ms/step - loss: 2.1869 - accuracy: 0.1999\n",
      "Epoch 1/5\n",
      "235/235 [==============================] - 1s 2ms/step - loss: 2.3228 - accuracy: 0.1012\n",
      "Epoch 2/5\n",
      "235/235 [==============================] - 0s 2ms/step - loss: 2.2892 - accuracy: 0.1227\n",
      "Epoch 3/5\n",
      "235/235 [==============================] - 0s 1ms/step - loss: 2.2734 - accuracy: 0.1349\n",
      "Epoch 4/5\n",
      "235/235 [==============================] - 0s 2ms/step - loss: 2.2456 - accuracy: 0.1633\n",
      "Epoch 5/5\n",
      "235/235 [==============================] - 0s 2ms/step - loss: 2.2125 - accuracy: 0.1857\n"
     ]
    }
   ],
   "source": [
    "# Create and train client models\n",
    "client1_model = create_client_model()\n",
    "client2_model = create_client_model()\n",
    "client3_model = create_client_model()\n",
    "client4_model = create_client_model()\n",
    "client5_model = create_client_model()\n",
    "client6_model = create_client_model()\n",
    "client7_model = create_client_model()\n",
    "client8_model = create_client_model()\n",
    "\n",
    "client1_model = train_client_model(client1_model, client_1[0], client_1[1])\n",
    "client2_model = train_client_model(client2_model, client_2[0], client_1[1])\n",
    "client3_model = train_client_model(client3_model, client_3[0], client_1[1])\n",
    "client4_model = train_client_model(client4_model, client_4[0], client_1[1])\n",
    "client5_model = train_client_model(client5_model, client_5[0], client_1[1])\n",
    "client6_model = train_client_model(client6_model, client_6[0], client_1[1])\n",
    "client7_model = train_client_model(client7_model, client_7[0], client_1[1])\n",
    "client8_model = train_client_model(client8_model, client_8[0], client_1[1])"
   ]
  },
  {
   "cell_type": "code",
   "execution_count": 70,
   "metadata": {},
   "outputs": [],
   "source": [
    "# Federated averaging\n",
    "def federated_average_weights(weights1, weights2, weights3, weights4, weights5, weights6, weights7, weights8):\n",
    "    new_weights = []\n",
    "    for w1, w2, w3, w4, w5, w6, w7, w8 in zip(weights1, weights2, weights3, weights4, weights5, weights6, weights7, weights8):\n",
    "        new_weights.append((w1 + w2 + w3 + w4 + w5 + w6 + w7 + w8) / 8)\n",
    "    return new_weights\n",
    "\n",
    "\n",
    "# Aggregate models\n",
    "aggregated_weights = federated_average_weights(client1_model.get_weights(), \n",
    "                                               client2_model.get_weights(), \n",
    "                                               client3_model.get_weights(),\n",
    "                                               client4_model.get_weights(),\n",
    "                                               client5_model.get_weights(), \n",
    "                                               client6_model.get_weights(), \n",
    "                                               client7_model.get_weights(),\n",
    "                                               client8_model.get_weights())\n",
    "                                             \n",
    "# Create global model and set weights\n",
    "global_model = create_client_model()\n",
    "global_model.set_weights(aggregated_weights)"
   ]
  },
  {
   "cell_type": "code",
   "execution_count": 71,
   "metadata": {},
   "outputs": [
    {
     "name": "stdout",
     "output_type": "stream",
     "text": [
      "313/313 - 0s - loss: 2.2961 - accuracy: 0.1445 - 396ms/epoch - 1ms/step\n",
      "Test accuracy: 0.1445000022649765\n",
      "313/313 [==============================] - 0s 948us/step\n",
      "(10000, 10)\n",
      "Accuracy test set:  0.1445\n",
      "Precision test set:  0.21356795637384862\n",
      "Recall test set:  0.1445\n",
      "F-score test set:  0.12887178120947168\n",
      "              precision    recall  f1-score   support\n",
      "\n",
      "           0       0.27      0.11      0.16       980\n",
      "           1       0.09      0.25      0.13      1135\n",
      "           2       0.62      0.29      0.39      1032\n",
      "           3       0.09      0.01      0.01      1010\n",
      "           4       0.19      0.45      0.27       982\n",
      "           5       0.66      0.06      0.12       892\n",
      "           6       0.11      0.04      0.06       958\n",
      "           7       0.06      0.17      0.09      1028\n",
      "           8       0.00      0.00      0.00       974\n",
      "           9       0.08      0.02      0.04      1009\n",
      "\n",
      "    accuracy                           0.14     10000\n",
      "   macro avg       0.22      0.14      0.13     10000\n",
      "weighted avg       0.21      0.14      0.13     10000\n",
      "\n"
     ]
    }
   ],
   "source": [
    "# Evaluate global model\n",
    "test_loss, test_acc = global_model.evaluate(x_test, y_test, verbose=2)\n",
    "print('Test accuracy:', test_acc)\n",
    "\n",
    "predictions = global_model.predict(x_test)\n",
    "print(predictions.shape)\n",
    "\n",
    "predictions = list(predictions.argmax(axis=1))\n",
    "\n",
    "print(\"Accuracy test set: \", accuracy_score(y_test, predictions))\n",
    "\n",
    "print(\"Precision test set: \", precision_score(y_test, predictions, average = 'weighted' )) \n",
    "print(\"Recall test set: \", recall_score(y_test, predictions, average = 'weighted' ))\n",
    "print(\"F-score test set: \", f1_score(y_test, predictions, average = 'weighted' ))\n",
    "\n",
    "print(classification_report(y_test, predictions))"
   ]
  },
  {
   "cell_type": "code",
   "execution_count": 72,
   "metadata": {},
   "outputs": [],
   "source": [
    "test_accuracy_dishonest  = []\n",
    "test_precision_dishonest = []\n",
    "test_recall_dishonest    = []\n",
    "test_f1_score_dishonest  = []"
   ]
  },
  {
   "cell_type": "code",
   "execution_count": 73,
   "metadata": {},
   "outputs": [
    {
     "name": "stdout",
     "output_type": "stream",
     "text": [
      "[0.2573, 0.1445]\n",
      "[0.2725372202651795, 0.21356795637384862]\n",
      "[0.2573, 0.1445]\n",
      "[0.20799879738149502, 0.12887178120947168]\n"
     ]
    }
   ],
   "source": [
    "test_accuracy_dishonest.append(test_accuracy[2])\n",
    "test_precision_dishonest.append(test_precision[2])\n",
    "test_recall_dishonest.append(test_recall[2])\n",
    "test_f1_score_dishonest.append(test_f1_score[2])\n",
    "\n",
    "test_accuracy_dishonest.append(0.1445)\n",
    "test_precision_dishonest.append(0.21356795637384862)\n",
    "test_recall_dishonest.append(0.1445)\n",
    "test_f1_score_dishonest.append(0.12887178120947168)\n",
    "\n",
    "print(test_accuracy_dishonest)\n",
    "print(test_precision_dishonest)\n",
    "print(test_recall_dishonest)\n",
    "print(test_f1_score_dishonest)"
   ]
  },
  {
   "cell_type": "code",
   "execution_count": 74,
   "metadata": {},
   "outputs": [
    {
     "name": "stdout",
     "output_type": "stream",
     "text": [
      "[[0.2573, 0.1445], [0.2725372202651795, 0.21356795637384862], [0.2573, 0.1445], [0.20799879738149502, 0.12887178120947168]]\n"
     ]
    },
    {
     "data": {
      "text/html": [
       "<div>\n",
       "<style scoped>\n",
       "    .dataframe tbody tr th:only-of-type {\n",
       "        vertical-align: middle;\n",
       "    }\n",
       "\n",
       "    .dataframe tbody tr th {\n",
       "        vertical-align: top;\n",
       "    }\n",
       "\n",
       "    .dataframe thead th {\n",
       "        text-align: right;\n",
       "    }\n",
       "</style>\n",
       "<table border=\"1\" class=\"dataframe\">\n",
       "  <thead>\n",
       "    <tr style=\"text-align: right;\">\n",
       "      <th></th>\n",
       "      <th>Accuracy</th>\n",
       "      <th>Precision</th>\n",
       "      <th>Recall</th>\n",
       "      <th>F1_Score</th>\n",
       "    </tr>\n",
       "  </thead>\n",
       "  <tbody>\n",
       "    <tr>\n",
       "      <th>All are honest</th>\n",
       "      <td>0.2573</td>\n",
       "      <td>0.272537</td>\n",
       "      <td>0.2573</td>\n",
       "      <td>0.207999</td>\n",
       "    </tr>\n",
       "    <tr>\n",
       "      <th>#7 is dishonest</th>\n",
       "      <td>0.1445</td>\n",
       "      <td>0.213568</td>\n",
       "      <td>0.1445</td>\n",
       "      <td>0.128872</td>\n",
       "    </tr>\n",
       "  </tbody>\n",
       "</table>\n",
       "</div>"
      ],
      "text/plain": [
       "                 Accuracy  Precision  Recall  F1_Score\n",
       "All are honest     0.2573   0.272537  0.2573  0.207999\n",
       "#7 is dishonest    0.1445   0.213568  0.1445  0.128872"
      ]
     },
     "execution_count": 74,
     "metadata": {},
     "output_type": "execute_result"
    }
   ],
   "source": [
    "### Plot the model's performance for the 4 clients, one of them (number=3) is dishonest\n",
    "\n",
    "ErrorMetrics = []\n",
    "ErrorMetrics.append(test_accuracy_dishonest)\n",
    "ErrorMetrics.append(test_precision_dishonest)\n",
    "ErrorMetrics.append(test_recall_dishonest)\n",
    "ErrorMetrics.append(test_f1_score_dishonest)\n",
    "\n",
    "print(ErrorMetrics)\n",
    "\n",
    "ErrorMetrics_pd = pd.DataFrame(ErrorMetrics)\n",
    "ErrorMetrics_pd.columns = ['All are honest', '#7 is dishonest']\n",
    "ErrorMetrics_pd = ErrorMetrics_pd.T\n",
    "ErrorMetrics_pd.columns = ['Accuracy','Precision','Recall','F1_Score']\n",
    "ErrorMetrics_pd"
   ]
  },
  {
   "cell_type": "code",
   "execution_count": 75,
   "metadata": {},
   "outputs": [
    {
     "data": {
      "text/plain": [
       "<Axes: >"
      ]
     },
     "execution_count": 75,
     "metadata": {},
     "output_type": "execute_result"
    },
    {
     "data": {
      "image/png": "[encoded data removed]",
      "text/plain": [
       "<Figure size 640x480 with 1 Axes>"
      ]
     },
     "metadata": {},
     "output_type": "display_data"
    }
   ],
   "source": [
    "ErrorMetrics_pd.plot.bar(width=0.7, alpha=0.7)"
   ]
  },
  {
   "cell_type": "markdown",
   "metadata": {
    "id": "aeKbFr6UHMPx"
   },
   "source": [
    "# Lab Logbook requirement: Document the following in lablogbook\n",
    "\n",
    "1. Plot the model's performance for the number of clients ranging from 2, 4, 6, 8, and 10.\n",
    "\n",
    "2. For any specified number of clients, compare the model's performance when one (or more) dishonest clients are present. Plot the performance metrics before and after the presence of dishonest clients.\n",
    "\n",
    "\n"
   ]
  },
  {
   "cell_type": "markdown",
   "metadata": {
    "id": "PQVf56VHHNQe"
   },
   "source": [
    "# Challenges (Optional):\n",
    "\n",
    "## The above code is for one communication round. Write code for multiple communication rounds. In each communication round, clients will train the model on a new dataset. Then the server will merge all these models. Subsequently, the clients will retrain the merged model in the next communication round.\n",
    "\n"
   ]
  }
 ],
 "metadata": {
  "colab": {
   "provenance": [],
   "toc_visible": true
  },
  "kernelspec": {
   "display_name": "Python 3 (ipykernel)",
   "language": "python",
   "name": "python3"
  },
  "language_info": {
   "codemirror_mode": {
    "name": "ipython",
    "version": 3
   },
   "file_extension": ".py",
   "mimetype": "text/x-python",
   "name": "python",
   "nbconvert_exporter": "python",
   "pygments_lexer": "ipython3",
   "version": "3.11.5"
  }
 },
 "nbformat": 4,
 "nbformat_minor": 4
}
