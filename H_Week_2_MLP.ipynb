{
 "cells": [
  {
   "cell_type": "markdown",
   "metadata": {
    "id": "quDlLWcAP31q"
   },
   "source": [
    "## MLP for Binary Classification\n",
    "\n",
    "In this lab, you will use the Ionosphere data binary (two-class) classification dataset to demonstrate an MLP for binary classification.\n",
    "\n",
    "This dataset involves predicting whether a structure is in the atmosphere or not given radar returns.\n",
    "\n",
    "The dataset will be downloaded automatically using Pandas, but you can learn more in the links below.\n",
    "\n",
    "[Ionosphere Dataset (csv)](https://raw.githubusercontent.com/jbrownlee/Datasets/master/ionosphere.csv)\n",
    "\n",
    "[Ionosphere Dataset Description (csv)](https://raw.githubusercontent.com/jbrownlee/Datasets/master/ionosphere.names)\n",
    "\n",
    "\n",
    "Your task for this is lab is to develop a Keras-based Multi-Layer Perceptron model for this data set. Remember the number of output layers is equal to the number of classes.\n",
    "\n",
    "Following we have provided some piece of code to you while you need to complete the rest of the code on your own.\n",
    "\n"
   ]
  },
  {
   "cell_type": "code",
   "execution_count": 1,
   "metadata": {
    "id": "6086ipzNP31q"
   },
   "outputs": [
    {
     "name": "stdout",
     "output_type": "stream",
     "text": [
      "WARNING:tensorflow:From D:\\Softwares\\Coding\\Anaconda\\Lib\\site-packages\\keras\\src\\losses.py:2976: The name tf.losses.sparse_softmax_cross_entropy is deprecated. Please use tf.compat.v1.losses.sparse_softmax_cross_entropy instead.\n",
      "\n"
     ]
    }
   ],
   "source": [
    "# Importing Libraries\n",
    "import numpy as np\n",
    "\n",
    "# Your code to import read_csv class from pandas\n",
    "import pandas as pd\n",
    "from pandas import read_csv\n",
    "\n",
    "# Your code to import train_test_split class from sklearn. Follow link https://scikit-learn.org/stable/modules/generated/sklearn.model_selection.train_test_split.html\n",
    "from sklearn.model_selection import train_test_split\n",
    "\n",
    "from sklearn.preprocessing import LabelEncoder\n",
    "from tensorflow.keras import Sequential\n",
    "from tensorflow.keras.layers import Dense"
   ]
  },
  {
   "cell_type": "markdown",
   "metadata": {
    "id": "7755rFn_iDRj"
   },
   "source": [
    "# Read the dataset from the path below. Store the data in a pandas dataframe named 'df'\n",
    "\n",
    "Link to API - https://pandas.pydata.org/docs/reference/api/pandas.read_csv.html"
   ]
  },
  {
   "cell_type": "code",
   "execution_count": 2,
   "metadata": {
    "id": "058u-qkXP31r"
   },
   "outputs": [],
   "source": [
    "path = 'https://raw.githubusercontent.com/jbrownlee/Datasets/master/ionosphere.csv'\n",
    "# Your code to read the csv from the above path.\n",
    "df = pd.read_csv(path, header = None)"
   ]
  },
  {
   "cell_type": "markdown",
   "metadata": {
    "id": "vG3n2OHrjQsG"
   },
   "source": [
    "See the sample dataset. Print few rows of the dataset. Use dataframe.head() method.\n",
    "\n",
    "Link to API:  https://pandas.pydata.org/docs/reference/api/pandas.DataFrame.head.html"
   ]
  },
  {
   "cell_type": "code",
   "execution_count": 3,
   "metadata": {
    "id": "jx3JTj4sfUIt",
    "scrolled": true
   },
   "outputs": [
    {
     "data": {
      "text/html": [
       "<div>\n",
       "<style scoped>\n",
       "    .dataframe tbody tr th:only-of-type {\n",
       "        vertical-align: middle;\n",
       "    }\n",
       "\n",
       "    .dataframe tbody tr th {\n",
       "        vertical-align: top;\n",
       "    }\n",
       "\n",
       "    .dataframe thead th {\n",
       "        text-align: right;\n",
       "    }\n",
       "</style>\n",
       "<table border=\"1\" class=\"dataframe\">\n",
       "  <thead>\n",
       "    <tr style=\"text-align: right;\">\n",
       "      <th></th>\n",
       "      <th>0</th>\n",
       "      <th>1</th>\n",
       "      <th>2</th>\n",
       "      <th>3</th>\n",
       "      <th>4</th>\n",
       "      <th>5</th>\n",
       "      <th>6</th>\n",
       "      <th>7</th>\n",
       "      <th>8</th>\n",
       "      <th>9</th>\n",
       "      <th>...</th>\n",
       "      <th>25</th>\n",
       "      <th>26</th>\n",
       "      <th>27</th>\n",
       "      <th>28</th>\n",
       "      <th>29</th>\n",
       "      <th>30</th>\n",
       "      <th>31</th>\n",
       "      <th>32</th>\n",
       "      <th>33</th>\n",
       "      <th>34</th>\n",
       "    </tr>\n",
       "  </thead>\n",
       "  <tbody>\n",
       "    <tr>\n",
       "      <th>0</th>\n",
       "      <td>1</td>\n",
       "      <td>0</td>\n",
       "      <td>0.99539</td>\n",
       "      <td>-0.05889</td>\n",
       "      <td>0.85243</td>\n",
       "      <td>0.02306</td>\n",
       "      <td>0.83398</td>\n",
       "      <td>-0.37708</td>\n",
       "      <td>1.00000</td>\n",
       "      <td>0.03760</td>\n",
       "      <td>...</td>\n",
       "      <td>-0.51171</td>\n",
       "      <td>0.41078</td>\n",
       "      <td>-0.46168</td>\n",
       "      <td>0.21266</td>\n",
       "      <td>-0.34090</td>\n",
       "      <td>0.42267</td>\n",
       "      <td>-0.54487</td>\n",
       "      <td>0.18641</td>\n",
       "      <td>-0.45300</td>\n",
       "      <td>g</td>\n",
       "    </tr>\n",
       "    <tr>\n",
       "      <th>1</th>\n",
       "      <td>1</td>\n",
       "      <td>0</td>\n",
       "      <td>1.00000</td>\n",
       "      <td>-0.18829</td>\n",
       "      <td>0.93035</td>\n",
       "      <td>-0.36156</td>\n",
       "      <td>-0.10868</td>\n",
       "      <td>-0.93597</td>\n",
       "      <td>1.00000</td>\n",
       "      <td>-0.04549</td>\n",
       "      <td>...</td>\n",
       "      <td>-0.26569</td>\n",
       "      <td>-0.20468</td>\n",
       "      <td>-0.18401</td>\n",
       "      <td>-0.19040</td>\n",
       "      <td>-0.11593</td>\n",
       "      <td>-0.16626</td>\n",
       "      <td>-0.06288</td>\n",
       "      <td>-0.13738</td>\n",
       "      <td>-0.02447</td>\n",
       "      <td>b</td>\n",
       "    </tr>\n",
       "    <tr>\n",
       "      <th>2</th>\n",
       "      <td>1</td>\n",
       "      <td>0</td>\n",
       "      <td>1.00000</td>\n",
       "      <td>-0.03365</td>\n",
       "      <td>1.00000</td>\n",
       "      <td>0.00485</td>\n",
       "      <td>1.00000</td>\n",
       "      <td>-0.12062</td>\n",
       "      <td>0.88965</td>\n",
       "      <td>0.01198</td>\n",
       "      <td>...</td>\n",
       "      <td>-0.40220</td>\n",
       "      <td>0.58984</td>\n",
       "      <td>-0.22145</td>\n",
       "      <td>0.43100</td>\n",
       "      <td>-0.17365</td>\n",
       "      <td>0.60436</td>\n",
       "      <td>-0.24180</td>\n",
       "      <td>0.56045</td>\n",
       "      <td>-0.38238</td>\n",
       "      <td>g</td>\n",
       "    </tr>\n",
       "    <tr>\n",
       "      <th>3</th>\n",
       "      <td>1</td>\n",
       "      <td>0</td>\n",
       "      <td>1.00000</td>\n",
       "      <td>-0.45161</td>\n",
       "      <td>1.00000</td>\n",
       "      <td>1.00000</td>\n",
       "      <td>0.71216</td>\n",
       "      <td>-1.00000</td>\n",
       "      <td>0.00000</td>\n",
       "      <td>0.00000</td>\n",
       "      <td>...</td>\n",
       "      <td>0.90695</td>\n",
       "      <td>0.51613</td>\n",
       "      <td>1.00000</td>\n",
       "      <td>1.00000</td>\n",
       "      <td>-0.20099</td>\n",
       "      <td>0.25682</td>\n",
       "      <td>1.00000</td>\n",
       "      <td>-0.32382</td>\n",
       "      <td>1.00000</td>\n",
       "      <td>b</td>\n",
       "    </tr>\n",
       "    <tr>\n",
       "      <th>4</th>\n",
       "      <td>1</td>\n",
       "      <td>0</td>\n",
       "      <td>1.00000</td>\n",
       "      <td>-0.02401</td>\n",
       "      <td>0.94140</td>\n",
       "      <td>0.06531</td>\n",
       "      <td>0.92106</td>\n",
       "      <td>-0.23255</td>\n",
       "      <td>0.77152</td>\n",
       "      <td>-0.16399</td>\n",
       "      <td>...</td>\n",
       "      <td>-0.65158</td>\n",
       "      <td>0.13290</td>\n",
       "      <td>-0.53206</td>\n",
       "      <td>0.02431</td>\n",
       "      <td>-0.62197</td>\n",
       "      <td>-0.05707</td>\n",
       "      <td>-0.59573</td>\n",
       "      <td>-0.04608</td>\n",
       "      <td>-0.65697</td>\n",
       "      <td>g</td>\n",
       "    </tr>\n",
       "  </tbody>\n",
       "</table>\n",
       "<p>5 rows × 35 columns</p>\n",
       "</div>"
      ],
      "text/plain": [
       "   0   1        2        3        4        5        6        7        8   \\\n",
       "0   1   0  0.99539 -0.05889  0.85243  0.02306  0.83398 -0.37708  1.00000   \n",
       "1   1   0  1.00000 -0.18829  0.93035 -0.36156 -0.10868 -0.93597  1.00000   \n",
       "2   1   0  1.00000 -0.03365  1.00000  0.00485  1.00000 -0.12062  0.88965   \n",
       "3   1   0  1.00000 -0.45161  1.00000  1.00000  0.71216 -1.00000  0.00000   \n",
       "4   1   0  1.00000 -0.02401  0.94140  0.06531  0.92106 -0.23255  0.77152   \n",
       "\n",
       "        9   ...       25       26       27       28       29       30  \\\n",
       "0  0.03760  ... -0.51171  0.41078 -0.46168  0.21266 -0.34090  0.42267   \n",
       "1 -0.04549  ... -0.26569 -0.20468 -0.18401 -0.19040 -0.11593 -0.16626   \n",
       "2  0.01198  ... -0.40220  0.58984 -0.22145  0.43100 -0.17365  0.60436   \n",
       "3  0.00000  ...  0.90695  0.51613  1.00000  1.00000 -0.20099  0.25682   \n",
       "4 -0.16399  ... -0.65158  0.13290 -0.53206  0.02431 -0.62197 -0.05707   \n",
       "\n",
       "        31       32       33  34  \n",
       "0 -0.54487  0.18641 -0.45300   g  \n",
       "1 -0.06288 -0.13738 -0.02447   b  \n",
       "2 -0.24180  0.56045 -0.38238   g  \n",
       "3  1.00000 -0.32382  1.00000   b  \n",
       "4 -0.59573 -0.04608 -0.65697   g  \n",
       "\n",
       "[5 rows x 35 columns]"
      ]
     },
     "execution_count": 3,
     "metadata": {},
     "output_type": "execute_result"
    }
   ],
   "source": [
    "# Your code to print first few rows of the dataset.\n",
    "df.head()"
   ]
  },
  {
   "cell_type": "markdown",
   "metadata": {
    "id": "uo8Siqyxfhj7"
   },
   "source": [
    "Print the basic info of the dataset. Use dataframe.info() from pandas library\n"
   ]
  },
  {
   "cell_type": "code",
   "execution_count": 4,
   "metadata": {
    "id": "VgN9rYV_fiag"
   },
   "outputs": [
    {
     "name": "stdout",
     "output_type": "stream",
     "text": [
      "<class 'pandas.core.frame.DataFrame'>\n",
      "RangeIndex: 351 entries, 0 to 350\n",
      "Data columns (total 35 columns):\n",
      " #   Column  Non-Null Count  Dtype  \n",
      "---  ------  --------------  -----  \n",
      " 0   0       351 non-null    int64  \n",
      " 1   1       351 non-null    int64  \n",
      " 2   2       351 non-null    float64\n",
      " 3   3       351 non-null    float64\n",
      " 4   4       351 non-null    float64\n",
      " 5   5       351 non-null    float64\n",
      " 6   6       351 non-null    float64\n",
      " 7   7       351 non-null    float64\n",
      " 8   8       351 non-null    float64\n",
      " 9   9       351 non-null    float64\n",
      " 10  10      351 non-null    float64\n",
      " 11  11      351 non-null    float64\n",
      " 12  12      351 non-null    float64\n",
      " 13  13      351 non-null    float64\n",
      " 14  14      351 non-null    float64\n",
      " 15  15      351 non-null    float64\n",
      " 16  16      351 non-null    float64\n",
      " 17  17      351 non-null    float64\n",
      " 18  18      351 non-null    float64\n",
      " 19  19      351 non-null    float64\n",
      " 20  20      351 non-null    float64\n",
      " 21  21      351 non-null    float64\n",
      " 22  22      351 non-null    float64\n",
      " 23  23      351 non-null    float64\n",
      " 24  24      351 non-null    float64\n",
      " 25  25      351 non-null    float64\n",
      " 26  26      351 non-null    float64\n",
      " 27  27      351 non-null    float64\n",
      " 28  28      351 non-null    float64\n",
      " 29  29      351 non-null    float64\n",
      " 30  30      351 non-null    float64\n",
      " 31  31      351 non-null    float64\n",
      " 32  32      351 non-null    float64\n",
      " 33  33      351 non-null    float64\n",
      " 34  34      351 non-null    object \n",
      "dtypes: float64(32), int64(2), object(1)\n",
      "memory usage: 96.1+ KB\n"
     ]
    }
   ],
   "source": [
    "# Your code to print information about the dataframe\n",
    "df.info()"
   ]
  },
  {
   "cell_type": "markdown",
   "metadata": {
    "id": "AX_YFAb4kdl4"
   },
   "source": [
    "Print the shape of the dataframe. Select suitable API call from the pandas library"
   ]
  },
  {
   "cell_type": "code",
   "execution_count": 5,
   "metadata": {
    "id": "rlfCOssvf44O"
   },
   "outputs": [
    {
     "data": {
      "text/plain": [
       "(351, 35)"
      ]
     },
     "execution_count": 5,
     "metadata": {},
     "output_type": "execute_result"
    }
   ],
   "source": [
    "# Your code to print the shape of the dataset\n",
    "df.shape"
   ]
  },
  {
   "cell_type": "markdown",
   "metadata": {
    "id": "aekdoY2zkxU4"
   },
   "source": [
    "# Separate the input and output from the dataframe. Input is all columns besides last column. Output is the last column.\n"
   ]
  },
  {
   "cell_type": "code",
   "execution_count": 6,
   "metadata": {
    "id": "_5bh8al2P31s"
   },
   "outputs": [],
   "source": [
    "X = df.values[:, :-1]\n",
    "# Your code to get y - Hint y = df.values[:, some parameters]\n",
    "y = df.values[:, -1]"
   ]
  },
  {
   "cell_type": "markdown",
   "metadata": {
    "id": "t7y3GhJDloqk"
   },
   "source": [
    "We have converted everthing in X to 'float' and the letters in column y to the numbers in the following cell."
   ]
  },
  {
   "cell_type": "code",
   "execution_count": 7,
   "metadata": {
    "id": "qVtPf2F9lg17"
   },
   "outputs": [],
   "source": [
    "X = X.astype('float32')\n",
    "y = LabelEncoder().fit_transform(y)"
   ]
  },
  {
   "cell_type": "markdown",
   "metadata": {
    "id": "EZ_aY4H3l9bI"
   },
   "source": [
    "Printing the genral information of the X and y in the following cell"
   ]
  },
  {
   "cell_type": "code",
   "execution_count": 8,
   "metadata": {
    "id": "BWBOMrBigew9"
   },
   "outputs": [
    {
     "name": "stdout",
     "output_type": "stream",
     "text": [
      "[[ 1.       0.       0.99539 ... -0.54487  0.18641 -0.453  ]\n",
      " [ 1.       0.       1.      ... -0.06288 -0.13738 -0.02447]\n",
      " [ 1.       0.       1.      ... -0.2418   0.56045 -0.38238]\n",
      " ...\n",
      " [ 1.       0.       0.94701 ...  0.00442  0.92697 -0.00577]\n",
      " [ 1.       0.       0.90608 ... -0.03757  0.87403 -0.16243]\n",
      " [ 1.       0.       0.8471  ... -0.06678  0.85764 -0.06151]]\n",
      "[1 0 1 0 1 0 1 0 1 0 1 0 1 0 1 0 1 0 1 0 1 0 1 0 1 0 1 0 1 0 1 0 1 0 1 0 1\n",
      " 0 1 0 1 0 1 0 1 0 1 0 1 0 1 0 1 0 1 0 1 0 1 0 1 0 1 0 1 0 1 0 1 0 1 0 1 0\n",
      " 1 0 1 0 1 0 1 0 1 0 1 0 1 0 1 0 1 0 1 0 1 0 1 1 0 1 0 1 0 1 0 1 0 1 0 1 0\n",
      " 1 0 1 0 1 0 1 0 1 0 1 0 1 0 1 0 1 0 1 0 1 0 1 0 1 0 1 0 1 0 1 0 1 0 1 0 1\n",
      " 0 1 0 1 0 1 0 1 0 1 0 1 0 1 0 1 0 1 0 1 0 1 0 1 0 1 0 1 0 1 0 1 0 1 0 1 0\n",
      " 1 0 1 0 1 0 1 0 1 0 1 0 1 0 1 0 1 0 1 0 1 0 1 0 1 0 1 0 1 0 1 0 1 0 1 0 1\n",
      " 0 1 0 1 0 1 0 1 0 1 0 1 0 1 0 1 0 1 0 1 0 1 0 1 0 1 0 1 0 1 0 1 1 1 1 1 1\n",
      " 1 1 1 1 1 1 1 1 1 1 1 1 1 1 1 1 1 1 1 1 1 1 1 1 1 1 1 1 1 1 1 1 1 1 1 1 1\n",
      " 1 1 1 1 1 1 1 1 1 1 1 1 1 1 1 1 1 1 1 1 1 1 1 1 1 1 1 1 1 1 1 1 1 1 1 1 1\n",
      " 1 1 1 1 1 1 1 1 1 1 1 1 1 1 1 1 1 1]\n",
      "(351, 34)\n",
      "(351,)\n"
     ]
    }
   ],
   "source": [
    "# Your code to print X\n",
    "print(X)\n",
    "\n",
    "# Your code to print y\n",
    "print(y)\n",
    "\n",
    "# your code to print shape of X. Remember X is a numpy array\n",
    "print(X.shape)\n",
    "\n",
    "# your code to print shape of y. Remember y is a numpy array\n",
    "print(y.shape)"
   ]
  },
  {
   "cell_type": "markdown",
   "metadata": {
    "id": "f9ltrLLqmkgW"
   },
   "source": [
    "* Separate X and y into training and test set with a ratio of your choice.\n",
    "* Print the shapes of the resulting arrays.\n",
    "* Get the number of features from X_train. Remember the number of features are the number of inputs.\n",
    "\n",
    "Use sklearn train_test_split class.\n",
    "https://scikit-learn.org/stable/modules/generated/sklearn.model_selection.train_test_split.html\n"
   ]
  },
  {
   "cell_type": "code",
   "execution_count": 9,
   "metadata": {
    "id": "-CjFJcAMP31s"
   },
   "outputs": [
    {
     "name": "stdout",
     "output_type": "stream",
     "text": [
      "[[ 1.       0.       1.      ...  0.02703  1.      -0.07027]\n",
      " [ 1.       0.       0.8941  ...  0.19172 -0.48808  0.05972]\n",
      " [ 1.       0.       1.      ... -0.64537  0.64727 -0.67226]\n",
      " ...\n",
      " [ 1.       0.       0.50932 ...  0.23188  0.       0.     ]\n",
      " [ 1.       0.       1.      ... -0.14194  1.      -0.07439]\n",
      " [ 1.       0.       0.6     ...  0.16667  0.63333  0.16667]]\n",
      "[[ 1.       0.       0.7983  ...  0.51701 -0.27339  0.42467]\n",
      " [ 1.       0.       1.      ...  0.36364  0.09091  0.33333]\n",
      " [ 0.       0.       1.      ... -1.      -1.      -1.     ]\n",
      " ...\n",
      " [ 0.       0.       1.      ...  1.      -1.       1.     ]\n",
      " [ 1.       0.       1.      ... -1.       1.      -1.     ]\n",
      " [ 1.       0.       0.74449 ...  0.07458  0.60294  0.21691]]\n",
      "[1 1 1 0 1 1 0 1 0 0 0 0 0 1 0 1 1 1 1 0 1 1 1 1 1 0 0 0 1 1 0 0 1 1 1 1 0\n",
      " 0 1 1 0 0 1 1 0 1 1 1 1 1 1 1 0 1 1 0 0 1 1 1 0 0 1 0 0 1 0 0 1 0 1 0 0 1\n",
      " 1 1 0 1 1 1 1 1 1 1 1 1 1 1 1 0 1 1 0 1 1 1 0 0 1 0 1 1 1 1 1 1 0 0 1 1 0\n",
      " 1 1 1 1 1 1 1 0 0 1 1 1 0 0 0 1 1 1 1 1 0 1 0 1 1 1 1 1 1 1 1 1 1 1 1 0 1\n",
      " 1 1 0 0 1 0 1 1 0 0 1 1 1 1 0 0 1 0 1 1 1 0 0 0 1 1 1 0 0 1 0 0 0 1 1 1 1\n",
      " 0 0 1 0 1 0 1 0 1 1 0 1 0 1 1 1 1 0 1 1 1 0 1 0 1 0 1 0 1 0 0 1 1 1 0 0 1\n",
      " 0 1 0 0 1 0 1 0 1 1 1 1 1 1 1 0 0 1 1 1 0 1 0 0 0 1 1 1 0 1 1 0 0 1 0 0 1\n",
      " 1 0 1 1]\n",
      "[1 1 0 1 0 1 1 0 0 0 1 1 1 0 0 1 1 1 1 1 0 1 1 1 1 1 1 1 0 0 1 1 1 0 0 0 1\n",
      " 0 1 0 0 1 1 0 1 0 1 1 1 1 1 1 1 1 0 0 1 1 1 0 1 1 1 0 0 1 0 1 1 1 1 1 1 0\n",
      " 0 1 1 1 1 1 1 0 1 1 1 0 0 1]\n"
     ]
    }
   ],
   "source": [
    "# Your code to separate the data into trauning and test set.\n",
    "X_train, X_test, y_train, y_test = train_test_split(X, y)\n",
    "\n",
    "# Your code to print shape of X_train\n",
    "# Your code to print shape of X_test\n",
    "# Your code to print shape of y_train\n",
    "# Your code to print shape of X_test\n",
    "print(X_train)\n",
    "print(X_test)\n",
    "print(y_train)\n",
    "print(y_test)\n",
    "\n",
    "n_features = X_train.shape[1]"
   ]
  },
  {
   "cell_type": "markdown",
   "metadata": {
    "id": "dQdqYXJ9pqzC"
   },
   "source": [
    "# Creating a Multi-layer Perceptron using Keras.\n",
    "We have added first and last layers. Create the hidden layers of your choise.\n",
    "You can chose any number of hidden layers and activation function of your chose\n",
    "https://keras.io/api/layers/core_layers/dense/"
   ]
  },
  {
   "cell_type": "code",
   "execution_count": 10,
   "metadata": {
    "id": "hhTE3u-_P31t"
   },
   "outputs": [
    {
     "name": "stdout",
     "output_type": "stream",
     "text": [
      "WARNING:tensorflow:From D:\\Softwares\\Coding\\Anaconda\\Lib\\site-packages\\keras\\src\\backend.py:873: The name tf.get_default_graph is deprecated. Please use tf.compat.v1.get_default_graph instead.\n",
      "\n"
     ]
    }
   ],
   "source": [
    "model = Sequential()\n",
    "model.add(Dense(10, activation='relu', input_shape=(n_features,)))\n",
    "#\n",
    "# Add as many layers with activation functions of your choice\n",
    "#\n",
    "model.add(Dense(4, activation = 'relu'))\n",
    "model.add(Dense(5, activation = 'softmax'))\n",
    "\n",
    "model.add(Dense(1, activation='sigmoid'))"
   ]
  },
  {
   "cell_type": "markdown",
   "metadata": {
    "id": "2NtBU922rH67"
   },
   "source": [
    "In the next cell, we trained the above neural network model and tested its accuracy. As this concept has still not benn covered in the class, just run the code to check the accuracy."
   ]
  },
  {
   "cell_type": "code",
   "execution_count": 11,
   "metadata": {
    "id": "krgB1SuRP31t",
    "scrolled": true
   },
   "outputs": [
    {
     "name": "stdout",
     "output_type": "stream",
     "text": [
      "WARNING:tensorflow:From D:\\Softwares\\Coding\\Anaconda\\Lib\\site-packages\\keras\\src\\optimizers\\__init__.py:309: The name tf.train.Optimizer is deprecated. Please use tf.compat.v1.train.Optimizer instead.\n",
      "\n",
      "WARNING:tensorflow:From D:\\Softwares\\Coding\\Anaconda\\Lib\\site-packages\\keras\\src\\utils\\tf_utils.py:492: The name tf.ragged.RaggedTensorValue is deprecated. Please use tf.compat.v1.ragged.RaggedTensorValue instead.\n",
      "\n",
      "WARNING:tensorflow:From D:\\Softwares\\Coding\\Anaconda\\Lib\\site-packages\\keras\\src\\engine\\base_layer_utils.py:384: The name tf.executing_eagerly_outside_functions is deprecated. Please use tf.compat.v1.executing_eagerly_outside_functions instead.\n",
      "\n",
      "Test Accuracy: 0.943\n"
     ]
    }
   ],
   "source": [
    "model.compile(optimizer='adam', loss='binary_crossentropy', metrics=['accuracy'])\n",
    "model.fit(X_train, y_train, epochs=150, batch_size=32, verbose=0)\n",
    "\n",
    "loss, acc = model.evaluate(X_test, y_test, verbose=0)\n",
    "print('Test Accuracy: %.3f' % acc)"
   ]
  },
  {
   "cell_type": "markdown",
   "metadata": {
    "id": "8ReYGy_jsCh0"
   },
   "source": [
    "** How much accuracy have you got? Compare the accuracy with your peers. **\n",
    "** Now, change your model and activation function to get the better accuracy as compared to your peers **"
   ]
  },
  {
   "cell_type": "markdown",
   "metadata": {
    "id": "rmeq5l1edZPg"
   },
   "source": [
    "## **Important:** Document in your lab logbook the accuracy of the improved model. Do not include any code or explanations in your lab logbook. Simply record the accuracy. For example, if the obtained accuracy is 0.98, then enter \"0.98\" in your lab logbook.\n",
    "\n",
    "## In addition to the accuracy, also document the output of the neural network as provided in Task 2.\n"
   ]
  },
  {
   "cell_type": "markdown",
   "metadata": {
    "id": "ZFNL8fY2rd41"
   },
   "source": [
    "\n",
    "Next, we have provided the code to predict on an unknown value.\n",
    "We will cover these concepts later in the class. For now, just run the code to see the prediction."
   ]
  },
  {
   "cell_type": "code",
   "execution_count": 12,
   "metadata": {
    "colab": {
     "base_uri": "https://localhost:8080/"
    },
    "id": "kXV7gQRAP31u",
    "outputId": "a5092aea-3cad-4009-de83-956caa73ecba"
   },
   "outputs": [
    {
     "name": "stdout",
     "output_type": "stream",
     "text": [
      "1/1 [==============================] - 0s 100ms/step\n",
      "Predicted: 0.889\n"
     ]
    }
   ],
   "source": [
    "row = [1,0,0.99539,-0.05889,0.85243,0.02306,\n",
    "       0.83398,-0.37708,1,0.03760,0.85243,-0.17755,\n",
    "       0.59755,-0.44945,0.60536,-0.38223,0.84356,\n",
    "       -0.38542,0.58212,-0.32192,0.56971,-0.29674,0.36946,\n",
    "       -0.47357,0.56811,-0.51171,0.41078,-0.46168,0.21266,\n",
    "       -0.34090,0.42267,-0.54487,0.18641,-0.45300]\n",
    "yhat = model.predict([row])\n",
    "print('Predicted: %.3f' % yhat)"
   ]
  },
  {
   "cell_type": "markdown",
   "metadata": {
    "id": "bNFK4kV9P31u"
   },
   "source": [
    "### Try out the same model with Keras Functional models!\n",
    "Refer to [Keras](https://keras.io/) for more details and tutorials for the same."
   ]
  },
  {
   "cell_type": "code",
   "execution_count": 13,
   "metadata": {
    "id": "hhTE3u-_P31t"
   },
   "outputs": [],
   "source": [
    "model = Sequential()\n",
    "model.add(Dense(10, activation='relu', input_shape=(n_features,)))\n",
    "#\n",
    "# Add as many layers with activation functions of your choice\n",
    "#\n",
    "model.add(Dense(4, activation = 'relu'))\n",
    "model.add(Dense(5, activation = 'softmax'))\n",
    "model.add(Dense(64, activation = 'tanh'))\n",
    "model.add(Dense(10, activation = 'softplus'))\n",
    "model.add(Dense(5, activation = 'softsign'))\n",
    "model.add(Dense(34, activation = 'selu'))\n",
    "model.add(Dense(1, activation = 'elu'))\n",
    "model.add(Dense(69, activation = 'exponential'))\n",
    "model.add(Dense(11, activation = 'leaky_relu'))\n",
    "\n",
    "\n",
    "model.add(Dense(1, activation='sigmoid'))"
   ]
  },
  {
   "cell_type": "code",
   "execution_count": 14,
   "metadata": {},
   "outputs": [
    {
     "name": "stdout",
     "output_type": "stream",
     "text": [
      "Model: \"sequential_1\"\n",
      "_________________________________________________________________\n",
      " Layer (type)                Output Shape              Param #   \n",
      "=================================================================\n",
      " dense_4 (Dense)             (None, 10)                350       \n",
      "                                                                 \n",
      " dense_5 (Dense)             (None, 4)                 44        \n",
      "                                                                 \n",
      " dense_6 (Dense)             (None, 5)                 25        \n",
      "                                                                 \n",
      " dense_7 (Dense)             (None, 64)                384       \n",
      "                                                                 \n",
      " dense_8 (Dense)             (None, 10)                650       \n",
      "                                                                 \n",
      " dense_9 (Dense)             (None, 5)                 55        \n",
      "                                                                 \n",
      " dense_10 (Dense)            (None, 34)                204       \n",
      "                                                                 \n",
      " dense_11 (Dense)            (None, 1)                 35        \n",
      "                                                                 \n",
      " dense_12 (Dense)            (None, 69)                138       \n",
      "                                                                 \n",
      " dense_13 (Dense)            (None, 11)                770       \n",
      "                                                                 \n",
      " dense_14 (Dense)            (None, 1)                 12        \n",
      "                                                                 \n",
      "=================================================================\n",
      "Total params: 2667 (10.42 KB)\n",
      "Trainable params: 2667 (10.42 KB)\n",
      "Non-trainable params: 0 (0.00 Byte)\n",
      "_________________________________________________________________\n",
      "None\n"
     ]
    }
   ],
   "source": [
    "print(model.summary())"
   ]
  },
  {
   "cell_type": "markdown",
   "metadata": {
    "id": "2NtBU922rH67"
   },
   "source": [
    "In the next cell, we trained the above neural network model and tested its accuracy. As this concept has still not benn covered in the class, just run the code to check the accuracy."
   ]
  },
  {
   "cell_type": "code",
   "execution_count": 15,
   "metadata": {
    "id": "krgB1SuRP31t",
    "scrolled": true
   },
   "outputs": [
    {
     "name": "stdout",
     "output_type": "stream",
     "text": [
      "Epoch 1/150\n",
      "9/9 - 2s - loss: 0.6607 - accuracy: 0.6312 - 2s/epoch - 205ms/step\n",
      "Epoch 2/150\n",
      "9/9 - 0s - loss: 0.6603 - accuracy: 0.6312 - 39ms/epoch - 4ms/step\n",
      "Epoch 3/150\n",
      "9/9 - 0s - loss: 0.6593 - accuracy: 0.6312 - 15ms/epoch - 2ms/step\n",
      "Epoch 4/150\n",
      "9/9 - 0s - loss: 0.6587 - accuracy: 0.6312 - 34ms/epoch - 4ms/step\n",
      "Epoch 5/150\n",
      "9/9 - 0s - loss: 0.6619 - accuracy: 0.6312 - 17ms/epoch - 2ms/step\n",
      "Epoch 6/150\n",
      "9/9 - 0s - loss: 0.6642 - accuracy: 0.6312 - 19ms/epoch - 2ms/step\n",
      "Epoch 7/150\n",
      "9/9 - 0s - loss: 0.6615 - accuracy: 0.6312 - 18ms/epoch - 2ms/step\n",
      "Epoch 8/150\n",
      "9/9 - 0s - loss: 0.6574 - accuracy: 0.6312 - 33ms/epoch - 4ms/step\n",
      "Epoch 9/150\n",
      "9/9 - 0s - loss: 0.6569 - accuracy: 0.6312 - 17ms/epoch - 2ms/step\n",
      "Epoch 10/150\n",
      "9/9 - 0s - loss: 0.6511 - accuracy: 0.6312 - 18ms/epoch - 2ms/step\n",
      "Epoch 11/150\n",
      "9/9 - 0s - loss: 0.6397 - accuracy: 0.6312 - 21ms/epoch - 2ms/step\n",
      "Epoch 12/150\n",
      "9/9 - 0s - loss: 0.6145 - accuracy: 0.6312 - 27ms/epoch - 3ms/step\n",
      "Epoch 13/150\n",
      "9/9 - 0s - loss: 0.5558 - accuracy: 0.6958 - 17ms/epoch - 2ms/step\n",
      "Epoch 14/150\n",
      "9/9 - 0s - loss: 0.4175 - accuracy: 0.8479 - 16ms/epoch - 2ms/step\n",
      "Epoch 15/150\n",
      "9/9 - 0s - loss: 0.3966 - accuracy: 0.8365 - 31ms/epoch - 3ms/step\n",
      "Epoch 16/150\n",
      "9/9 - 0s - loss: 0.3251 - accuracy: 0.9011 - 18ms/epoch - 2ms/step\n",
      "Epoch 17/150\n",
      "9/9 - 0s - loss: 0.2757 - accuracy: 0.9011 - 16ms/epoch - 2ms/step\n",
      "Epoch 18/150\n",
      "9/9 - 0s - loss: 0.2424 - accuracy: 0.9240 - 17ms/epoch - 2ms/step\n",
      "Epoch 19/150\n",
      "9/9 - 0s - loss: 0.2185 - accuracy: 0.9316 - 33ms/epoch - 4ms/step\n",
      "Epoch 20/150\n",
      "9/9 - 0s - loss: 0.2174 - accuracy: 0.9392 - 17ms/epoch - 2ms/step\n",
      "Epoch 21/150\n",
      "9/9 - 0s - loss: 0.1924 - accuracy: 0.9392 - 30ms/epoch - 3ms/step\n",
      "Epoch 22/150\n",
      "9/9 - 0s - loss: 0.1743 - accuracy: 0.9468 - 18ms/epoch - 2ms/step\n",
      "Epoch 23/150\n",
      "9/9 - 0s - loss: 0.1603 - accuracy: 0.9468 - 17ms/epoch - 2ms/step\n",
      "Epoch 24/150\n",
      "9/9 - 0s - loss: 0.1565 - accuracy: 0.9582 - 20ms/epoch - 2ms/step\n",
      "Epoch 25/150\n",
      "9/9 - 0s - loss: 0.1599 - accuracy: 0.9582 - 33ms/epoch - 4ms/step\n",
      "Epoch 26/150\n",
      "9/9 - 0s - loss: 0.1519 - accuracy: 0.9582 - 33ms/epoch - 4ms/step\n",
      "Epoch 27/150\n",
      "9/9 - 0s - loss: 0.1189 - accuracy: 0.9620 - 28ms/epoch - 3ms/step\n",
      "Epoch 28/150\n",
      "9/9 - 0s - loss: 0.1235 - accuracy: 0.9696 - 20ms/epoch - 2ms/step\n",
      "Epoch 29/150\n",
      "9/9 - 0s - loss: 0.1128 - accuracy: 0.9696 - 25ms/epoch - 3ms/step\n",
      "Epoch 30/150\n",
      "9/9 - 0s - loss: 0.1112 - accuracy: 0.9658 - 29ms/epoch - 3ms/step\n",
      "Epoch 31/150\n",
      "9/9 - 0s - loss: 0.1123 - accuracy: 0.9696 - 16ms/epoch - 2ms/step\n",
      "Epoch 32/150\n",
      "9/9 - 0s - loss: 0.1117 - accuracy: 0.9734 - 34ms/epoch - 4ms/step\n",
      "Epoch 33/150\n",
      "9/9 - 0s - loss: 0.1001 - accuracy: 0.9772 - 30ms/epoch - 3ms/step\n",
      "Epoch 34/150\n",
      "9/9 - 0s - loss: 0.0969 - accuracy: 0.9734 - 17ms/epoch - 2ms/step\n",
      "Epoch 35/150\n",
      "9/9 - 0s - loss: 0.0968 - accuracy: 0.9772 - 17ms/epoch - 2ms/step\n",
      "Epoch 36/150\n",
      "9/9 - 0s - loss: 0.0916 - accuracy: 0.9772 - 30ms/epoch - 3ms/step\n",
      "Epoch 37/150\n",
      "9/9 - 0s - loss: 0.0893 - accuracy: 0.9772 - 19ms/epoch - 2ms/step\n",
      "Epoch 38/150\n",
      "9/9 - 0s - loss: 0.0869 - accuracy: 0.9810 - 32ms/epoch - 4ms/step\n",
      "Epoch 39/150\n",
      "9/9 - 0s - loss: 0.0841 - accuracy: 0.9810 - 15ms/epoch - 2ms/step\n",
      "Epoch 40/150\n",
      "9/9 - 0s - loss: 0.0841 - accuracy: 0.9810 - 20ms/epoch - 2ms/step\n",
      "Epoch 41/150\n",
      "9/9 - 0s - loss: 0.0818 - accuracy: 0.9848 - 17ms/epoch - 2ms/step\n",
      "Epoch 42/150\n",
      "9/9 - 0s - loss: 0.0820 - accuracy: 0.9848 - 20ms/epoch - 2ms/step\n",
      "Epoch 43/150\n",
      "9/9 - 0s - loss: 0.0801 - accuracy: 0.9848 - 17ms/epoch - 2ms/step\n",
      "Epoch 44/150\n",
      "9/9 - 0s - loss: 0.0797 - accuracy: 0.9848 - 30ms/epoch - 3ms/step\n",
      "Epoch 45/150\n",
      "9/9 - 0s - loss: 0.0782 - accuracy: 0.9848 - 18ms/epoch - 2ms/step\n",
      "Epoch 46/150\n",
      "9/9 - 0s - loss: 0.0774 - accuracy: 0.9848 - 18ms/epoch - 2ms/step\n",
      "Epoch 47/150\n",
      "9/9 - 0s - loss: 0.0765 - accuracy: 0.9848 - 16ms/epoch - 2ms/step\n",
      "Epoch 48/150\n",
      "9/9 - 0s - loss: 0.0759 - accuracy: 0.9848 - 32ms/epoch - 4ms/step\n",
      "Epoch 49/150\n",
      "9/9 - 0s - loss: 0.0753 - accuracy: 0.9848 - 17ms/epoch - 2ms/step\n",
      "Epoch 50/150\n",
      "9/9 - 0s - loss: 0.0740 - accuracy: 0.9848 - 17ms/epoch - 2ms/step\n",
      "Epoch 51/150\n",
      "9/9 - 0s - loss: 0.0735 - accuracy: 0.9848 - 31ms/epoch - 3ms/step\n",
      "Epoch 52/150\n",
      "9/9 - 0s - loss: 0.0752 - accuracy: 0.9848 - 19ms/epoch - 2ms/step\n",
      "Epoch 53/150\n",
      "9/9 - 0s - loss: 0.0746 - accuracy: 0.9848 - 16ms/epoch - 2ms/step\n",
      "Epoch 54/150\n",
      "9/9 - 0s - loss: 0.0712 - accuracy: 0.9848 - 7ms/epoch - 780us/step\n",
      "Epoch 55/150\n",
      "9/9 - 0s - loss: 0.0703 - accuracy: 0.9848 - 20ms/epoch - 2ms/step\n",
      "Epoch 56/150\n",
      "9/9 - 0s - loss: 0.0697 - accuracy: 0.9848 - 34ms/epoch - 4ms/step\n",
      "Epoch 57/150\n",
      "9/9 - 0s - loss: 0.0703 - accuracy: 0.9848 - 30ms/epoch - 3ms/step\n",
      "Epoch 58/150\n",
      "9/9 - 0s - loss: 0.0684 - accuracy: 0.9848 - 28ms/epoch - 3ms/step\n",
      "Epoch 59/150\n",
      "9/9 - 0s - loss: 0.0669 - accuracy: 0.9848 - 19ms/epoch - 2ms/step\n",
      "Epoch 60/150\n",
      "9/9 - 0s - loss: 0.0667 - accuracy: 0.9848 - 26ms/epoch - 3ms/step\n",
      "Epoch 61/150\n",
      "9/9 - 0s - loss: 0.0660 - accuracy: 0.9848 - 21ms/epoch - 2ms/step\n",
      "Epoch 62/150\n",
      "9/9 - 0s - loss: 0.0649 - accuracy: 0.9848 - 17ms/epoch - 2ms/step\n",
      "Epoch 63/150\n",
      "9/9 - 0s - loss: 0.0596 - accuracy: 0.9886 - 16ms/epoch - 2ms/step\n",
      "Epoch 64/150\n",
      "9/9 - 0s - loss: 0.0612 - accuracy: 0.9848 - 17ms/epoch - 2ms/step\n",
      "Epoch 65/150\n",
      "9/9 - 0s - loss: 0.1006 - accuracy: 0.9734 - 26ms/epoch - 3ms/step\n",
      "Epoch 66/150\n",
      "9/9 - 0s - loss: 0.0741 - accuracy: 0.9810 - 21ms/epoch - 2ms/step\n",
      "Epoch 67/150\n",
      "9/9 - 0s - loss: 0.0583 - accuracy: 0.9886 - 17ms/epoch - 2ms/step\n",
      "Epoch 68/150\n",
      "9/9 - 0s - loss: 0.0543 - accuracy: 0.9886 - 17ms/epoch - 2ms/step\n",
      "Epoch 69/150\n",
      "9/9 - 0s - loss: 0.0542 - accuracy: 0.9886 - 17ms/epoch - 2ms/step\n",
      "Epoch 70/150\n",
      "9/9 - 0s - loss: 0.0564 - accuracy: 0.9886 - 30ms/epoch - 3ms/step\n",
      "Epoch 71/150\n",
      "9/9 - 0s - loss: 0.0580 - accuracy: 0.9886 - 18ms/epoch - 2ms/step\n",
      "Epoch 72/150\n",
      "9/9 - 0s - loss: 0.0535 - accuracy: 0.9886 - 19ms/epoch - 2ms/step\n",
      "Epoch 73/150\n",
      "9/9 - 0s - loss: 0.0564 - accuracy: 0.9886 - 15ms/epoch - 2ms/step\n",
      "Epoch 74/150\n",
      "9/9 - 0s - loss: 0.0517 - accuracy: 0.9886 - 17ms/epoch - 2ms/step\n",
      "Epoch 75/150\n",
      "9/9 - 0s - loss: 0.0519 - accuracy: 0.9886 - 17ms/epoch - 2ms/step\n",
      "Epoch 76/150\n",
      "9/9 - 0s - loss: 0.0502 - accuracy: 0.9886 - 17ms/epoch - 2ms/step\n",
      "Epoch 77/150\n",
      "9/9 - 0s - loss: 0.0465 - accuracy: 0.9886 - 17ms/epoch - 2ms/step\n",
      "Epoch 78/150\n",
      "9/9 - 0s - loss: 0.0470 - accuracy: 0.9886 - 16ms/epoch - 2ms/step\n",
      "Epoch 79/150\n",
      "9/9 - 0s - loss: 0.0463 - accuracy: 0.9886 - 17ms/epoch - 2ms/step\n",
      "Epoch 80/150\n",
      "9/9 - 0s - loss: 0.0414 - accuracy: 0.9924 - 26ms/epoch - 3ms/step\n",
      "Epoch 81/150\n",
      "9/9 - 0s - loss: 0.0419 - accuracy: 0.9924 - 19ms/epoch - 2ms/step\n",
      "Epoch 82/150\n",
      "9/9 - 0s - loss: 0.0400 - accuracy: 0.9924 - 16ms/epoch - 2ms/step\n",
      "Epoch 83/150\n",
      "9/9 - 0s - loss: 0.0406 - accuracy: 0.9924 - 17ms/epoch - 2ms/step\n",
      "Epoch 84/150\n",
      "9/9 - 0s - loss: 0.0400 - accuracy: 0.9924 - 17ms/epoch - 2ms/step\n",
      "Epoch 85/150\n",
      "9/9 - 0s - loss: 0.0399 - accuracy: 0.9924 - 18ms/epoch - 2ms/step\n",
      "Epoch 86/150\n",
      "9/9 - 0s - loss: 0.0398 - accuracy: 0.9924 - 16ms/epoch - 2ms/step\n",
      "Epoch 87/150\n",
      "9/9 - 0s - loss: 0.0393 - accuracy: 0.9924 - 17ms/epoch - 2ms/step\n",
      "Epoch 88/150\n",
      "9/9 - 0s - loss: 0.0406 - accuracy: 0.9924 - 16ms/epoch - 2ms/step\n",
      "Epoch 89/150\n",
      "9/9 - 0s - loss: 0.0408 - accuracy: 0.9924 - 20ms/epoch - 2ms/step\n",
      "Epoch 90/150\n",
      "9/9 - 0s - loss: 0.0388 - accuracy: 0.9924 - 17ms/epoch - 2ms/step\n",
      "Epoch 91/150\n",
      "9/9 - 0s - loss: 0.0390 - accuracy: 0.9924 - 16ms/epoch - 2ms/step\n",
      "Epoch 92/150\n",
      "9/9 - 0s - loss: 0.0386 - accuracy: 0.9924 - 37ms/epoch - 4ms/step\n",
      "Epoch 93/150\n",
      "9/9 - 0s - loss: 0.0395 - accuracy: 0.9924 - 14ms/epoch - 2ms/step\n",
      "Epoch 94/150\n",
      "9/9 - 0s - loss: 0.0394 - accuracy: 0.9924 - 17ms/epoch - 2ms/step\n",
      "Epoch 95/150\n",
      "9/9 - 0s - loss: 0.0394 - accuracy: 0.9924 - 17ms/epoch - 2ms/step\n",
      "Epoch 96/150\n",
      "9/9 - 0s - loss: 0.0384 - accuracy: 0.9924 - 17ms/epoch - 2ms/step\n",
      "Epoch 97/150\n",
      "9/9 - 0s - loss: 0.0385 - accuracy: 0.9924 - 17ms/epoch - 2ms/step\n",
      "Epoch 98/150\n",
      "9/9 - 0s - loss: 0.0382 - accuracy: 0.9924 - 18ms/epoch - 2ms/step\n",
      "Epoch 99/150\n",
      "9/9 - 0s - loss: 0.0378 - accuracy: 0.9924 - 16ms/epoch - 2ms/step\n",
      "Epoch 100/150\n",
      "9/9 - 0s - loss: 0.0380 - accuracy: 0.9924 - 17ms/epoch - 2ms/step\n",
      "Epoch 101/150\n",
      "9/9 - 0s - loss: 0.0388 - accuracy: 0.9924 - 17ms/epoch - 2ms/step\n",
      "Epoch 102/150\n",
      "9/9 - 0s - loss: 0.0371 - accuracy: 0.9924 - 16ms/epoch - 2ms/step\n",
      "Epoch 103/150\n",
      "9/9 - 0s - loss: 0.0371 - accuracy: 0.9924 - 17ms/epoch - 2ms/step\n",
      "Epoch 104/150\n",
      "9/9 - 0s - loss: 0.0374 - accuracy: 0.9924 - 17ms/epoch - 2ms/step\n",
      "Epoch 105/150\n",
      "9/9 - 0s - loss: 0.0363 - accuracy: 0.9924 - 15ms/epoch - 2ms/step\n",
      "Epoch 106/150\n",
      "9/9 - 0s - loss: 0.0376 - accuracy: 0.9924 - 17ms/epoch - 2ms/step\n",
      "Epoch 107/150\n",
      "9/9 - 0s - loss: 0.0370 - accuracy: 0.9924 - 35ms/epoch - 4ms/step\n",
      "Epoch 108/150\n",
      "9/9 - 0s - loss: 0.0362 - accuracy: 0.9924 - 13ms/epoch - 1ms/step\n",
      "Epoch 109/150\n",
      "9/9 - 0s - loss: 0.0356 - accuracy: 0.9924 - 16ms/epoch - 2ms/step\n",
      "Epoch 110/150\n",
      "9/9 - 0s - loss: 0.0358 - accuracy: 0.9924 - 21ms/epoch - 2ms/step\n",
      "Epoch 111/150\n",
      "9/9 - 0s - loss: 0.0357 - accuracy: 0.9924 - 32ms/epoch - 4ms/step\n",
      "Epoch 112/150\n",
      "9/9 - 0s - loss: 0.0354 - accuracy: 0.9924 - 38ms/epoch - 4ms/step\n",
      "Epoch 113/150\n",
      "9/9 - 0s - loss: 0.0347 - accuracy: 0.9924 - 24ms/epoch - 3ms/step\n",
      "Epoch 114/150\n",
      "9/9 - 0s - loss: 0.0352 - accuracy: 0.9924 - 37ms/epoch - 4ms/step\n",
      "Epoch 115/150\n",
      "9/9 - 0s - loss: 0.0346 - accuracy: 0.9924 - 31ms/epoch - 3ms/step\n",
      "Epoch 116/150\n",
      "9/9 - 0s - loss: 0.0339 - accuracy: 0.9924 - 29ms/epoch - 3ms/step\n",
      "Epoch 117/150\n",
      "9/9 - 0s - loss: 0.0332 - accuracy: 0.9924 - 34ms/epoch - 4ms/step\n",
      "Epoch 118/150\n",
      "9/9 - 0s - loss: 0.0327 - accuracy: 0.9924 - 36ms/epoch - 4ms/step\n",
      "Epoch 119/150\n",
      "9/9 - 0s - loss: 0.0332 - accuracy: 0.9924 - 38ms/epoch - 4ms/step\n",
      "Epoch 120/150\n",
      "9/9 - 0s - loss: 0.0319 - accuracy: 0.9924 - 34ms/epoch - 4ms/step\n",
      "Epoch 121/150\n",
      "9/9 - 0s - loss: 0.0397 - accuracy: 0.9924 - 33ms/epoch - 4ms/step\n",
      "Epoch 122/150\n",
      "9/9 - 0s - loss: 0.0323 - accuracy: 0.9924 - 31ms/epoch - 3ms/step\n",
      "Epoch 123/150\n",
      "9/9 - 0s - loss: 0.0319 - accuracy: 0.9924 - 28ms/epoch - 3ms/step\n",
      "Epoch 124/150\n",
      "9/9 - 0s - loss: 0.0300 - accuracy: 0.9924 - 16ms/epoch - 2ms/step\n",
      "Epoch 125/150\n",
      "9/9 - 0s - loss: 0.0293 - accuracy: 0.9924 - 19ms/epoch - 2ms/step\n",
      "Epoch 126/150\n",
      "9/9 - 0s - loss: 0.0316 - accuracy: 0.9924 - 34ms/epoch - 4ms/step\n",
      "Epoch 127/150\n",
      "9/9 - 0s - loss: 0.0311 - accuracy: 0.9924 - 39ms/epoch - 4ms/step\n",
      "Epoch 128/150\n",
      "9/9 - 0s - loss: 0.0265 - accuracy: 0.9924 - 18ms/epoch - 2ms/step\n",
      "Epoch 129/150\n",
      "9/9 - 0s - loss: 0.0275 - accuracy: 0.9924 - 33ms/epoch - 4ms/step\n",
      "Epoch 130/150\n",
      "9/9 - 0s - loss: 0.0280 - accuracy: 0.9924 - 31ms/epoch - 3ms/step\n",
      "Epoch 131/150\n",
      "9/9 - 0s - loss: 0.0225 - accuracy: 0.9924 - 18ms/epoch - 2ms/step\n",
      "Epoch 132/150\n",
      "9/9 - 0s - loss: 0.0210 - accuracy: 0.9962 - 17ms/epoch - 2ms/step\n",
      "Epoch 133/150\n",
      "9/9 - 0s - loss: 0.0231 - accuracy: 0.9924 - 20ms/epoch - 2ms/step\n",
      "Epoch 134/150\n",
      "9/9 - 0s - loss: 0.0194 - accuracy: 0.9962 - 33ms/epoch - 4ms/step\n",
      "Epoch 135/150\n",
      "9/9 - 0s - loss: 0.0180 - accuracy: 0.9962 - 31ms/epoch - 3ms/step\n",
      "Epoch 136/150\n",
      "9/9 - 0s - loss: 0.0167 - accuracy: 0.9962 - 18ms/epoch - 2ms/step\n",
      "Epoch 137/150\n",
      "9/9 - 0s - loss: 0.0192 - accuracy: 0.9962 - 30ms/epoch - 3ms/step\n",
      "Epoch 138/150\n",
      "9/9 - 0s - loss: 0.0324 - accuracy: 0.9886 - 18ms/epoch - 2ms/step\n",
      "Epoch 139/150\n",
      "9/9 - 0s - loss: 0.0198 - accuracy: 0.9962 - 16ms/epoch - 2ms/step\n",
      "Epoch 140/150\n",
      "9/9 - 0s - loss: 0.0167 - accuracy: 0.9962 - 18ms/epoch - 2ms/step\n",
      "Epoch 141/150\n",
      "9/9 - 0s - loss: 0.0179 - accuracy: 0.9962 - 30ms/epoch - 3ms/step\n",
      "Epoch 142/150\n",
      "9/9 - 0s - loss: 0.0156 - accuracy: 0.9962 - 16ms/epoch - 2ms/step\n",
      "Epoch 143/150\n",
      "9/9 - 0s - loss: 0.0176 - accuracy: 0.9962 - 18ms/epoch - 2ms/step\n",
      "Epoch 144/150\n",
      "9/9 - 0s - loss: 0.0160 - accuracy: 0.9962 - 32ms/epoch - 4ms/step\n",
      "Epoch 145/150\n",
      "9/9 - 0s - loss: 0.0159 - accuracy: 0.9962 - 15ms/epoch - 2ms/step\n",
      "Epoch 146/150\n",
      "9/9 - 0s - loss: 0.0151 - accuracy: 0.9962 - 17ms/epoch - 2ms/step\n",
      "Epoch 147/150\n",
      "9/9 - 0s - loss: 0.0160 - accuracy: 0.9962 - 19ms/epoch - 2ms/step\n",
      "Epoch 148/150\n",
      "9/9 - 0s - loss: 0.0147 - accuracy: 0.9962 - 16ms/epoch - 2ms/step\n",
      "Epoch 149/150\n",
      "9/9 - 0s - loss: 0.0178 - accuracy: 0.9962 - 37ms/epoch - 4ms/step\n",
      "Epoch 150/150\n",
      "9/9 - 0s - loss: 0.0166 - accuracy: 0.9962 - 11ms/epoch - 1ms/step\n",
      "3/3 - 0s - loss: 0.4257 - accuracy: 0.9205 - 194ms/epoch - 65ms/step\n",
      "Test Accuracy: 0.920\n"
     ]
    }
   ],
   "source": [
    "model.compile(optimizer='adam', loss='binary_crossentropy', metrics=['accuracy'])\n",
    "model.fit(X_train, y_train, epochs=150, batch_size=32, verbose=2)\n",
    "\n",
    "loss, acc = model.evaluate(X_test, y_test, verbose=2)\n",
    "print('Test Accuracy: %.3f' % acc)"
   ]
  },
  {
   "cell_type": "code",
   "execution_count": null,
   "metadata": {},
   "outputs": [],
   "source": []
  },
  {
   "cell_type": "code",
   "execution_count": 16,
   "metadata": {
    "colab": {
     "base_uri": "https://localhost:8080/"
    },
    "id": "kXV7gQRAP31u",
    "outputId": "a5092aea-3cad-4009-de83-956caa73ecba"
   },
   "outputs": [
    {
     "name": "stdout",
     "output_type": "stream",
     "text": [
      "1/1 [==============================] - 0s 221ms/step\n",
      "Predicted: 1.000\n"
     ]
    }
   ],
   "source": [
    "row = [1,0,0.99539,-0.05889,0.85243,0.02306,\n",
    "       0.83398,-0.37708,1,0.03760,0.85243,-0.17755,\n",
    "       0.59755,-0.44945,0.60536,-0.38223,0.84356,\n",
    "       -0.38542,0.58212,-0.32192,0.56971,-0.29674,0.36946,\n",
    "       -0.47357,0.56811,-0.51171,0.41078,-0.46168,0.21266,\n",
    "       -0.34090,0.42267,-0.54487,0.18641,-0.45300]\n",
    "yhat = model.predict([row])\n",
    "print('Predicted: %.3f' % yhat)"
   ]
  }
 ],
 "metadata": {
  "colab": {
   "provenance": []
  },
  "kernelspec": {
   "display_name": "Python 3 (ipykernel)",
   "language": "python",
   "name": "python3"
  },
  "language_info": {
   "codemirror_mode": {
    "name": "ipython",
    "version": 3
   },
   "file_extension": ".py",
   "mimetype": "text/x-python",
   "name": "python",
   "nbconvert_exporter": "python",
   "pygments_lexer": "ipython3",
   "version": "3.11.5"
  }
 },
 "nbformat": 4,
 "nbformat_minor": 1
}
